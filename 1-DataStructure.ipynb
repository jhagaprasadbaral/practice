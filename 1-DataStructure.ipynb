{
 "cells": [
  {
   "cell_type": "markdown",
   "metadata": {},
   "source": [
    "# Fundamental Data Structure :\n",
    "\n",
    "The fundamental data structure in python includes \n",
    "\n",
    "- **Primitive type** ( ***Integer, Float, String***, and ***Boolean***) and \n",
    "- **Non-Primitive type** ( ***Array, List, Tuples, Dictionary, Set***, and ***File***) \n",
    "\n",
    "In this tutorial, we are going to discudd about List, Tuples, Set and Dictionary. \n",
    "\n",
    "\n",
    "\n",
    "### List\n",
    "\n",
    "List is built in data structure in python. It is \n",
    "- Mutable i.e., we can change or edite the size of the list by appending, inserting and deleting the elements.\n",
    "- List can hold heterogeneous objects (e.g., integer, string, boolean)\n",
    "\n",
    "Lets try to understand the List:"
   ]
  },
  {
   "cell_type": "code",
   "execution_count": null,
   "metadata": {},
   "outputs": [],
   "source": [
    "A=[10*k for k in range(10)]\n",
    "print(A)"
   ]
  },
  {
   "cell_type": "code",
   "execution_count": 2,
   "metadata": {},
   "outputs": [
    {
     "data": {
      "text/plain": [
       "[4, 6, 8]"
      ]
     },
     "execution_count": 2,
     "metadata": {},
     "output_type": "execute_result"
    }
   ],
   "source": [
    "A=[]\n",
    "for i in range(4,10,2):\n",
    "     A.append(i)\n",
    "A"
   ]
  },
  {
   "cell_type": "code",
   "execution_count": null,
   "metadata": {},
   "outputs": [],
   "source": [
    "l = []"
   ]
  },
  {
   "cell_type": "code",
   "execution_count": null,
   "metadata": {},
   "outputs": [],
   "source": [
    "type(l)"
   ]
  },
  {
   "cell_type": "markdown",
   "metadata": {},
   "source": [
    "- To create a list from scratch."
   ]
  },
  {
   "cell_type": "code",
   "execution_count": null,
   "metadata": {},
   "outputs": [],
   "source": [
    "L = [1,2,3,4,5,6,342,34]"
   ]
  },
  {
   "cell_type": "code",
   "execution_count": null,
   "metadata": {},
   "outputs": [],
   "source": [
    "L"
   ]
  },
  {
   "cell_type": "markdown",
   "metadata": {},
   "source": [
    "- Indexing of list."
   ]
  },
  {
   "cell_type": "code",
   "execution_count": null,
   "metadata": {},
   "outputs": [],
   "source": [
    "L[0],L[1],L[5]"
   ]
  },
  {
   "cell_type": "markdown",
   "metadata": {},
   "source": [
    "- Revers indexing is also possible."
   ]
  },
  {
   "cell_type": "code",
   "execution_count": null,
   "metadata": {},
   "outputs": [],
   "source": [
    "L[-1],L[-2],L[-3]"
   ]
  },
  {
   "cell_type": "markdown",
   "metadata": {},
   "source": [
    "- To find the length of list."
   ]
  },
  {
   "cell_type": "code",
   "execution_count": null,
   "metadata": {},
   "outputs": [],
   "source": [
    "len(L)"
   ]
  },
  {
   "cell_type": "markdown",
   "metadata": {},
   "source": [
    "- To add the element from last."
   ]
  },
  {
   "cell_type": "code",
   "execution_count": null,
   "metadata": {},
   "outputs": [],
   "source": [
    "L.append(12)\n",
    "L"
   ]
  },
  {
   "cell_type": "markdown",
   "metadata": {},
   "source": [
    "- To find the sum of the elements (if they are of same types like int. double etc)"
   ]
  },
  {
   "cell_type": "code",
   "execution_count": null,
   "metadata": {},
   "outputs": [],
   "source": [
    "sum(L)"
   ]
  },
  {
   "cell_type": "markdown",
   "metadata": {},
   "source": [
    "- To find maximum and minimum of the list"
   ]
  },
  {
   "cell_type": "code",
   "execution_count": null,
   "metadata": {},
   "outputs": [],
   "source": [
    "max(L), min(L)"
   ]
  },
  {
   "cell_type": "markdown",
   "metadata": {},
   "source": [
    "- To create a list of heterogeneous element types."
   ]
  },
  {
   "cell_type": "code",
   "execution_count": null,
   "metadata": {},
   "outputs": [],
   "source": [
    "L = [1,2.0,3,4,5,\"Apple\",True, False]"
   ]
  },
  {
   "cell_type": "markdown",
   "metadata": {},
   "source": [
    "- To find the type of elements of a list."
   ]
  },
  {
   "cell_type": "code",
   "execution_count": null,
   "metadata": {},
   "outputs": [],
   "source": [
    "type(L[1]),type(L[5])"
   ]
  },
  {
   "cell_type": "markdown",
   "metadata": {},
   "source": [
    "- To create a list of list."
   ]
  },
  {
   "cell_type": "code",
   "execution_count": null,
   "metadata": {},
   "outputs": [],
   "source": [
    "L = [[1,2,3],[3,4,5],[5,7,9]]"
   ]
  },
  {
   "cell_type": "markdown",
   "metadata": {},
   "source": [
    "- To find list inside a list."
   ]
  },
  {
   "cell_type": "code",
   "execution_count": null,
   "metadata": {},
   "outputs": [],
   "source": [
    "L[0]"
   ]
  },
  {
   "cell_type": "code",
   "execution_count": null,
   "metadata": {},
   "outputs": [],
   "source": [
    "L[0][1]"
   ]
  },
  {
   "cell_type": "markdown",
   "metadata": {},
   "source": [
    "- To add two list. It is not as ususal addition. The elements are accumulated."
   ]
  },
  {
   "cell_type": "code",
   "execution_count": null,
   "metadata": {},
   "outputs": [],
   "source": [
    "L1 = [1,2,3] ; L2 = [2,4,6]\n",
    "L1+L2, set(L1+L2)"
   ]
  },
  {
   "cell_type": "markdown",
   "metadata": {},
   "source": [
    "- To add element from end of the list"
   ]
  },
  {
   "cell_type": "code",
   "execution_count": null,
   "metadata": {},
   "outputs": [],
   "source": [
    "L = [1,4,2,3,5,6,7]\n",
    "L.append(100)\n",
    "L"
   ]
  },
  {
   "cell_type": "markdown",
   "metadata": {},
   "source": [
    "- To insert element (100) at specific index (1)"
   ]
  },
  {
   "cell_type": "code",
   "execution_count": null,
   "metadata": {},
   "outputs": [],
   "source": [
    "L = [1,4,2,3,5,6,7]\n",
    "L.insert(1,100)\n",
    "L"
   ]
  },
  {
   "cell_type": "markdown",
   "metadata": {},
   "source": [
    "- To remove specific element form list. It will remove the first occurance."
   ]
  },
  {
   "cell_type": "code",
   "execution_count": null,
   "metadata": {},
   "outputs": [],
   "source": [
    "L = [1,4,2,3,5,6,7,4]\n",
    "L.remove(4)\n",
    "L"
   ]
  },
  {
   "cell_type": "markdown",
   "metadata": {},
   "source": [
    "- To remove the element from specific index"
   ]
  },
  {
   "cell_type": "code",
   "execution_count": null,
   "metadata": {},
   "outputs": [],
   "source": [
    "L = [1,4,2,3,5,6,7]\n",
    "L.pop(-1)\n",
    "L"
   ]
  },
  {
   "cell_type": "markdown",
   "metadata": {},
   "source": [
    "- To sort the list"
   ]
  },
  {
   "cell_type": "code",
   "execution_count": null,
   "metadata": {},
   "outputs": [],
   "source": [
    "L = [1,10,2,30,5,60,7]\n",
    "L.sort()\n",
    "L"
   ]
  },
  {
   "cell_type": "markdown",
   "metadata": {},
   "source": [
    "- To reverse the list"
   ]
  },
  {
   "cell_type": "code",
   "execution_count": null,
   "metadata": {},
   "outputs": [],
   "source": [
    "L = [1,4,2,3,5,6,7]\n",
    "L.reverse()\n",
    "L"
   ]
  },
  {
   "cell_type": "markdown",
   "metadata": {},
   "source": [
    "- List comprehension"
   ]
  },
  {
   "cell_type": "code",
   "execution_count": null,
   "metadata": {},
   "outputs": [],
   "source": [
    "L = [x for x in range(100)]\n",
    "print(L)"
   ]
  },
  {
   "cell_type": "code",
   "execution_count": null,
   "metadata": {},
   "outputs": [],
   "source": [
    "L = [x for x in range(100) if x%2==0]\n",
    "print(L)"
   ]
  },
  {
   "cell_type": "code",
   "execution_count": null,
   "metadata": {},
   "outputs": [],
   "source": [
    "import random as rn\n",
    "R = [rn.randint(0,100) for k in range(200)]\n",
    "print(R)"
   ]
  },
  {
   "cell_type": "code",
   "execution_count": null,
   "metadata": {},
   "outputs": [],
   "source": [
    "import random as rn\n",
    "rn.randint(0,100)"
   ]
  },
  {
   "cell_type": "code",
   "execution_count": null,
   "metadata": {},
   "outputs": [],
   "source": [
    "import collections\n",
    "#High Performance Counting\n",
    "C = collections.Counter(R)\n",
    "print(C)"
   ]
  },
  {
   "cell_type": "code",
   "execution_count": 7,
   "metadata": {},
   "outputs": [
    {
     "name": "stdout",
     "output_type": "stream",
     "text": [
      "['A', 'C', 'A', 'C', 'A', 'T', 'A', 'C', 'T', 'T', 'T', 'A', 'A', 'C', 'G', 'C', 'A', 'G', 'C', 'G', 'A', 'T', 'G', 'A', 'C', 'G', 'T', 'C', 'T', 'A', 'C', 'A', 'G', 'A', 'T', 'G', 'A', 'T', 'C', 'A', 'C', 'T', 'G', 'A', 'T', 'C', 'G', 'T', 'T', 'T', 'A', 'A', 'G', 'A', 'A', 'C', 'C', 'A', 'T', 'G', 'A', 'G', 'G', 'C', 'A', 'T', 'C', 'T', 'G', 'T', 'T', 'T', 'T', 'A', 'A', 'A', 'G', 'G', 'A', 'C', 'G', 'A', 'C', 'C', 'A', 'C', 'A', 'T', 'A', 'A', 'T', 'A', 'T', 'A', 'T', 'A', 'A', 'A', 'C', 'A', 'A', 'G', 'C', 'T', 'T', 'A', 'T', 'G', 'A', 'C', 'T', 'T', 'T', 'C', 'T', 'G', 'G', 'G', 'T', 'T', 'T', 'G', 'C', 'A', 'G', 'G', 'A', 'C', 'G', 'C', 'G', 'T', 'G', 'C', 'G', 'G', 'T', 'A', 'C', 'A', 'T', 'G', 'A', 'G', 'A', 'C', 'A', 'A', 'G', 'C', 'C', 'T', 'G', 'C', 'A', 'A', 'G', 'A', 'A', 'C', 'G', 'T', 'G', 'G', 'G', 'C', 'C', 'T', 'C', 'T', 'T', 'A', 'C', 'G', 'G', 'A', 'T', 'T', 'A', 'A', 'T', 'G', 'A', 'G', 'C', 'T', 'G', 'A', 'T', 'T', 'C', 'A', 'C', 'A', 'C', 'C', 'C', 'T', 'G', 'A']\n"
     ]
    }
   ],
   "source": [
    "R = [rn.choice(['A','T','G','C']) for i in range(200)]\n",
    "print(R)"
   ]
  },
  {
   "cell_type": "code",
   "execution_count": 8,
   "metadata": {},
   "outputs": [
    {
     "data": {
      "text/plain": [
       "'ACACATACTTTAACGCAGCGATGACGTCTACAGATGATCACTGATCGTTTAAGAACCATGAGGCATCTGTTTTAAAGGACGACCACATAATATATAAACAAGCTTATGACTTTCTGGGTTTGCAGGACGCGTGCGGTACATGAGACAAGCCTGCAAGAACGTGGGCCTCTTACGGATTAATGAGCTGATTCACACCCTGA'"
      ]
     },
     "execution_count": 8,
     "metadata": {},
     "output_type": "execute_result"
    }
   ],
   "source": [
    "DNA = ''.join(R)\n",
    "DNA"
   ]
  },
  {
   "cell_type": "code",
   "execution_count": 9,
   "metadata": {},
   "outputs": [
    {
     "data": {
      "text/plain": [
       "(61, 16, 6)"
      ]
     },
     "execution_count": 9,
     "metadata": {},
     "output_type": "execute_result"
    }
   ],
   "source": [
    "DNA.count('A'), DNA.count('AT'), DNA.count('ATG')"
   ]
  },
  {
   "cell_type": "markdown",
   "metadata": {},
   "source": [
    "#### Mini  Assignment:\n",
    "Create a DNA string of 10,000 characters and count the following: A,T,G,C,all combination of two charaters, all combinations of three characters."
   ]
  },
  {
   "cell_type": "code",
   "execution_count": 10,
   "metadata": {},
   "outputs": [
    {
     "data": {
      "text/plain": [
       "['C',\n",
       " 'C',\n",
       " 'A',\n",
       " 'G',\n",
       " 'A',\n",
       " 'G',\n",
       " 'T',\n",
       " 'A',\n",
       " 'A',\n",
       " 'G',\n",
       " 'T',\n",
       " 'A',\n",
       " 'A',\n",
       " 'A',\n",
       " 'C',\n",
       " 'T',\n",
       " 'C',\n",
       " 'C',\n",
       " 'G',\n",
       " 'T',\n",
       " 'G',\n",
       " 'C',\n",
       " 'T',\n",
       " 'A',\n",
       " 'T',\n",
       " 'A',\n",
       " 'C',\n",
       " 'A',\n",
       " 'T',\n",
       " 'G',\n",
       " 'G',\n",
       " 'G',\n",
       " 'T',\n",
       " 'G',\n",
       " 'T',\n",
       " 'T',\n",
       " 'C',\n",
       " 'C',\n",
       " 'C',\n",
       " 'C',\n",
       " 'G',\n",
       " 'C',\n",
       " 'T',\n",
       " 'G',\n",
       " 'G',\n",
       " 'G',\n",
       " 'C',\n",
       " 'G',\n",
       " 'T',\n",
       " 'A',\n",
       " 'C',\n",
       " 'T',\n",
       " 'T',\n",
       " 'T',\n",
       " 'A',\n",
       " 'T',\n",
       " 'C',\n",
       " 'A',\n",
       " 'G',\n",
       " 'G',\n",
       " 'A',\n",
       " 'A',\n",
       " 'C',\n",
       " 'C',\n",
       " 'C',\n",
       " 'A',\n",
       " 'G',\n",
       " 'C',\n",
       " 'C',\n",
       " 'A',\n",
       " 'A',\n",
       " 'A',\n",
       " 'T',\n",
       " 'C',\n",
       " 'A',\n",
       " 'A',\n",
       " 'C',\n",
       " 'A',\n",
       " 'A',\n",
       " 'G',\n",
       " 'T',\n",
       " 'G',\n",
       " 'A',\n",
       " 'C',\n",
       " 'C',\n",
       " 'T',\n",
       " 'T',\n",
       " 'T',\n",
       " 'G',\n",
       " 'C',\n",
       " 'C',\n",
       " 'T',\n",
       " 'G',\n",
       " 'A',\n",
       " 'G',\n",
       " 'T',\n",
       " 'T',\n",
       " 'G',\n",
       " 'A',\n",
       " 'G',\n",
       " 'G',\n",
       " 'A',\n",
       " 'A',\n",
       " 'G',\n",
       " 'A',\n",
       " 'G',\n",
       " 'A',\n",
       " 'C',\n",
       " 'C',\n",
       " 'A',\n",
       " 'C',\n",
       " 'A',\n",
       " 'A',\n",
       " 'T',\n",
       " 'C',\n",
       " 'G',\n",
       " 'G',\n",
       " 'G',\n",
       " 'G',\n",
       " 'G',\n",
       " 'A',\n",
       " 'C',\n",
       " 'G',\n",
       " 'G',\n",
       " 'T',\n",
       " 'C',\n",
       " 'A',\n",
       " 'C',\n",
       " 'C',\n",
       " 'A',\n",
       " 'T',\n",
       " 'C',\n",
       " 'G',\n",
       " 'T',\n",
       " 'A',\n",
       " 'T',\n",
       " 'C',\n",
       " 'C',\n",
       " 'A',\n",
       " 'A',\n",
       " 'G',\n",
       " 'G',\n",
       " 'A',\n",
       " 'G',\n",
       " 'A',\n",
       " 'C',\n",
       " 'G',\n",
       " 'C',\n",
       " 'C',\n",
       " 'G',\n",
       " 'T',\n",
       " 'G',\n",
       " 'T',\n",
       " 'T',\n",
       " 'C',\n",
       " 'G',\n",
       " 'C',\n",
       " 'T',\n",
       " 'C',\n",
       " 'C',\n",
       " 'A',\n",
       " 'G',\n",
       " 'C',\n",
       " 'G',\n",
       " 'A',\n",
       " 'C',\n",
       " 'G',\n",
       " 'A',\n",
       " 'C',\n",
       " 'G',\n",
       " 'C',\n",
       " 'T',\n",
       " 'A',\n",
       " 'A',\n",
       " 'A',\n",
       " 'C',\n",
       " 'C',\n",
       " 'C',\n",
       " 'A',\n",
       " 'T',\n",
       " 'T',\n",
       " 'G',\n",
       " 'T',\n",
       " 'A',\n",
       " 'A',\n",
       " 'A',\n",
       " 'T',\n",
       " 'A',\n",
       " 'T',\n",
       " 'T',\n",
       " 'A',\n",
       " 'C',\n",
       " 'A',\n",
       " 'C',\n",
       " 'C',\n",
       " 'G',\n",
       " 'A',\n",
       " 'T',\n",
       " 'G',\n",
       " 'A',\n",
       " 'G',\n",
       " 'C',\n",
       " 'C',\n",
       " 'C',\n",
       " 'G',\n",
       " 'C',\n",
       " 'C',\n",
       " 'T',\n",
       " 'T',\n",
       " 'A',\n",
       " 'G',\n",
       " 'T',\n",
       " 'G',\n",
       " 'A',\n",
       " 'T',\n",
       " 'A',\n",
       " 'C',\n",
       " 'T',\n",
       " 'G',\n",
       " 'G',\n",
       " 'T',\n",
       " 'G',\n",
       " 'G',\n",
       " 'T',\n",
       " 'A',\n",
       " 'G',\n",
       " 'C',\n",
       " 'C',\n",
       " 'G',\n",
       " 'C',\n",
       " 'A',\n",
       " 'T',\n",
       " 'T',\n",
       " 'A',\n",
       " 'G',\n",
       " 'C',\n",
       " 'A',\n",
       " 'G',\n",
       " 'G',\n",
       " 'T',\n",
       " 'G',\n",
       " 'T',\n",
       " 'G',\n",
       " 'C',\n",
       " 'C',\n",
       " 'T',\n",
       " 'T',\n",
       " 'T',\n",
       " 'T',\n",
       " 'T',\n",
       " 'A',\n",
       " 'T',\n",
       " 'G',\n",
       " 'T',\n",
       " 'G',\n",
       " 'C',\n",
       " 'A',\n",
       " 'G',\n",
       " 'T',\n",
       " 'C',\n",
       " 'T',\n",
       " 'T',\n",
       " 'C',\n",
       " 'A',\n",
       " 'T',\n",
       " 'T',\n",
       " 'A',\n",
       " 'T',\n",
       " 'G',\n",
       " 'C',\n",
       " 'G',\n",
       " 'C',\n",
       " 'A',\n",
       " 'G',\n",
       " 'G',\n",
       " 'G',\n",
       " 'G',\n",
       " 'C',\n",
       " 'A',\n",
       " 'C',\n",
       " 'G',\n",
       " 'C',\n",
       " 'A',\n",
       " 'C',\n",
       " 'T',\n",
       " 'T',\n",
       " 'C',\n",
       " 'T',\n",
       " 'A',\n",
       " 'C',\n",
       " 'G',\n",
       " 'G',\n",
       " 'A',\n",
       " 'G',\n",
       " 'G',\n",
       " 'C',\n",
       " 'A',\n",
       " 'A',\n",
       " 'A',\n",
       " 'C',\n",
       " 'C',\n",
       " 'G',\n",
       " 'T',\n",
       " 'C',\n",
       " 'T',\n",
       " 'A',\n",
       " 'G',\n",
       " 'A',\n",
       " 'C',\n",
       " 'T',\n",
       " 'A',\n",
       " 'T',\n",
       " 'A',\n",
       " 'G',\n",
       " 'A',\n",
       " 'A',\n",
       " 'G',\n",
       " 'G',\n",
       " 'T',\n",
       " 'T',\n",
       " 'T',\n",
       " 'G',\n",
       " 'G',\n",
       " 'G',\n",
       " 'G',\n",
       " 'A',\n",
       " 'G',\n",
       " 'G',\n",
       " 'T',\n",
       " 'A',\n",
       " 'A',\n",
       " 'A',\n",
       " 'T',\n",
       " 'T',\n",
       " 'A',\n",
       " 'G',\n",
       " 'G',\n",
       " 'C',\n",
       " 'G',\n",
       " 'C',\n",
       " 'G',\n",
       " 'G',\n",
       " 'C',\n",
       " 'T',\n",
       " 'C',\n",
       " 'T',\n",
       " 'T',\n",
       " 'A',\n",
       " 'A',\n",
       " 'T',\n",
       " 'T',\n",
       " 'C',\n",
       " 'G',\n",
       " 'C',\n",
       " 'G',\n",
       " 'A',\n",
       " 'G',\n",
       " 'G',\n",
       " 'G',\n",
       " 'T',\n",
       " 'C',\n",
       " 'T',\n",
       " 'A',\n",
       " 'A',\n",
       " 'G',\n",
       " 'G',\n",
       " 'T',\n",
       " 'G',\n",
       " 'A',\n",
       " 'T',\n",
       " 'T',\n",
       " 'A',\n",
       " 'T',\n",
       " 'T',\n",
       " 'G',\n",
       " 'C',\n",
       " 'G',\n",
       " 'C',\n",
       " 'T',\n",
       " 'C',\n",
       " 'T',\n",
       " 'G',\n",
       " 'C',\n",
       " 'A',\n",
       " 'T',\n",
       " 'T',\n",
       " 'G',\n",
       " 'A',\n",
       " 'G',\n",
       " 'T',\n",
       " 'A',\n",
       " 'A',\n",
       " 'G',\n",
       " 'C',\n",
       " 'C',\n",
       " 'T',\n",
       " 'C',\n",
       " 'C',\n",
       " 'C',\n",
       " 'G',\n",
       " 'A',\n",
       " 'T',\n",
       " 'G',\n",
       " 'G',\n",
       " 'T',\n",
       " 'G',\n",
       " 'A',\n",
       " 'G',\n",
       " 'C',\n",
       " 'A',\n",
       " 'G',\n",
       " 'G',\n",
       " 'C',\n",
       " 'A',\n",
       " 'A',\n",
       " 'C',\n",
       " 'A',\n",
       " 'C',\n",
       " 'G',\n",
       " 'T',\n",
       " 'T',\n",
       " 'G',\n",
       " 'C',\n",
       " 'A',\n",
       " 'G',\n",
       " 'T',\n",
       " 'G',\n",
       " 'G',\n",
       " 'C',\n",
       " 'G',\n",
       " 'A',\n",
       " 'A',\n",
       " 'G',\n",
       " 'C',\n",
       " 'A',\n",
       " 'T',\n",
       " 'G',\n",
       " 'T',\n",
       " 'G',\n",
       " 'G',\n",
       " 'A',\n",
       " 'G',\n",
       " 'G',\n",
       " 'C',\n",
       " 'G',\n",
       " 'G',\n",
       " 'T',\n",
       " 'G',\n",
       " 'C',\n",
       " 'A',\n",
       " 'C',\n",
       " 'T',\n",
       " 'C',\n",
       " 'C',\n",
       " 'G',\n",
       " 'C',\n",
       " 'T',\n",
       " 'A',\n",
       " 'T',\n",
       " 'A',\n",
       " 'T',\n",
       " 'G',\n",
       " 'G',\n",
       " 'G',\n",
       " 'T',\n",
       " 'A',\n",
       " 'T',\n",
       " 'A',\n",
       " 'C',\n",
       " 'T',\n",
       " 'T',\n",
       " 'G',\n",
       " 'A',\n",
       " 'G',\n",
       " 'C',\n",
       " 'T',\n",
       " 'T',\n",
       " 'A',\n",
       " 'A',\n",
       " 'G',\n",
       " 'T',\n",
       " 'A',\n",
       " 'A',\n",
       " 'G',\n",
       " 'C',\n",
       " 'A',\n",
       " 'A',\n",
       " 'G',\n",
       " 'G',\n",
       " 'A',\n",
       " 'G',\n",
       " 'G',\n",
       " 'A',\n",
       " 'A',\n",
       " 'C',\n",
       " 'C',\n",
       " 'A',\n",
       " 'G',\n",
       " 'A',\n",
       " 'C',\n",
       " 'T',\n",
       " 'T',\n",
       " 'A',\n",
       " 'C',\n",
       " 'C',\n",
       " 'A',\n",
       " 'C',\n",
       " 'T',\n",
       " 'A',\n",
       " 'T',\n",
       " 'T',\n",
       " 'C',\n",
       " 'G',\n",
       " 'T',\n",
       " 'A',\n",
       " 'G',\n",
       " 'G',\n",
       " 'T',\n",
       " 'G',\n",
       " 'G',\n",
       " 'T',\n",
       " 'T',\n",
       " 'C',\n",
       " 'G',\n",
       " 'C',\n",
       " 'T',\n",
       " 'T',\n",
       " 'T',\n",
       " 'G',\n",
       " 'G',\n",
       " 'G',\n",
       " 'T',\n",
       " 'T',\n",
       " 'T',\n",
       " 'C',\n",
       " 'G',\n",
       " 'T',\n",
       " 'T',\n",
       " 'G',\n",
       " 'G',\n",
       " 'G',\n",
       " 'A',\n",
       " 'T',\n",
       " 'A',\n",
       " 'T',\n",
       " 'G',\n",
       " 'T',\n",
       " 'T',\n",
       " 'C',\n",
       " 'T',\n",
       " 'C',\n",
       " 'C',\n",
       " 'T',\n",
       " 'T',\n",
       " 'G',\n",
       " 'C',\n",
       " 'T',\n",
       " 'T',\n",
       " 'C',\n",
       " 'C',\n",
       " 'T',\n",
       " 'A',\n",
       " 'C',\n",
       " 'A',\n",
       " 'G',\n",
       " 'A',\n",
       " 'G',\n",
       " 'G',\n",
       " 'A',\n",
       " 'C',\n",
       " 'T',\n",
       " 'G',\n",
       " 'A',\n",
       " 'A',\n",
       " 'G',\n",
       " 'C',\n",
       " 'G',\n",
       " 'C',\n",
       " 'A',\n",
       " 'G',\n",
       " 'C',\n",
       " 'C',\n",
       " 'T',\n",
       " 'C',\n",
       " 'C',\n",
       " 'G',\n",
       " 'T',\n",
       " 'C',\n",
       " 'C',\n",
       " 'A',\n",
       " 'A',\n",
       " 'T',\n",
       " 'C',\n",
       " 'T',\n",
       " 'G',\n",
       " 'C',\n",
       " 'C',\n",
       " 'C',\n",
       " 'G',\n",
       " 'A',\n",
       " 'G',\n",
       " 'C',\n",
       " 'A',\n",
       " 'C',\n",
       " 'T',\n",
       " 'C',\n",
       " 'C',\n",
       " 'G',\n",
       " 'A',\n",
       " 'T',\n",
       " 'C',\n",
       " 'T',\n",
       " 'C',\n",
       " 'G',\n",
       " 'C',\n",
       " 'T',\n",
       " 'C',\n",
       " 'G',\n",
       " 'G',\n",
       " 'C',\n",
       " 'C',\n",
       " 'C',\n",
       " 'G',\n",
       " 'C',\n",
       " 'A',\n",
       " 'G',\n",
       " 'T',\n",
       " 'C',\n",
       " 'G',\n",
       " 'A',\n",
       " 'C',\n",
       " 'C',\n",
       " 'A',\n",
       " 'G',\n",
       " 'G',\n",
       " 'A',\n",
       " 'C',\n",
       " 'C',\n",
       " 'G',\n",
       " 'G',\n",
       " 'G',\n",
       " 'A',\n",
       " 'A',\n",
       " 'C',\n",
       " 'T',\n",
       " 'T',\n",
       " 'A',\n",
       " 'C',\n",
       " 'C',\n",
       " 'T',\n",
       " 'A',\n",
       " 'T',\n",
       " 'A',\n",
       " 'T',\n",
       " 'C',\n",
       " 'C',\n",
       " 'A',\n",
       " 'C',\n",
       " 'T',\n",
       " 'C',\n",
       " 'T',\n",
       " 'A',\n",
       " 'C',\n",
       " 'C',\n",
       " 'G',\n",
       " 'C',\n",
       " 'G',\n",
       " 'C',\n",
       " 'C',\n",
       " 'A',\n",
       " 'C',\n",
       " 'C',\n",
       " 'T',\n",
       " 'C',\n",
       " 'C',\n",
       " 'C',\n",
       " 'A',\n",
       " 'T',\n",
       " 'C',\n",
       " 'A',\n",
       " 'A',\n",
       " 'G',\n",
       " 'C',\n",
       " 'A',\n",
       " 'C',\n",
       " 'A',\n",
       " 'C',\n",
       " 'G',\n",
       " 'T',\n",
       " 'C',\n",
       " 'T',\n",
       " 'A',\n",
       " 'G',\n",
       " 'C',\n",
       " 'T',\n",
       " 'G',\n",
       " 'C',\n",
       " 'T',\n",
       " 'A',\n",
       " 'T',\n",
       " 'A',\n",
       " 'C',\n",
       " 'A',\n",
       " 'G',\n",
       " 'T',\n",
       " 'A',\n",
       " 'C',\n",
       " 'T',\n",
       " 'T',\n",
       " 'C',\n",
       " 'T',\n",
       " 'T',\n",
       " 'A',\n",
       " 'A',\n",
       " 'G',\n",
       " 'G',\n",
       " 'A',\n",
       " 'C',\n",
       " 'A',\n",
       " 'C',\n",
       " 'C',\n",
       " 'A',\n",
       " 'T',\n",
       " 'T',\n",
       " 'G',\n",
       " 'C',\n",
       " 'T',\n",
       " 'T',\n",
       " 'T',\n",
       " 'C',\n",
       " 'A',\n",
       " 'A',\n",
       " 'G',\n",
       " 'A',\n",
       " 'C',\n",
       " 'A',\n",
       " 'C',\n",
       " 'T',\n",
       " 'T',\n",
       " 'C',\n",
       " 'T',\n",
       " 'T',\n",
       " 'T',\n",
       " 'A',\n",
       " 'A',\n",
       " 'G',\n",
       " 'G',\n",
       " 'G',\n",
       " 'T',\n",
       " 'T',\n",
       " 'G',\n",
       " 'C',\n",
       " 'C',\n",
       " 'C',\n",
       " 'A',\n",
       " 'G',\n",
       " 'C',\n",
       " 'C',\n",
       " 'A',\n",
       " 'A',\n",
       " 'C',\n",
       " 'A',\n",
       " 'T',\n",
       " 'C',\n",
       " 'G',\n",
       " 'C',\n",
       " 'T',\n",
       " 'T',\n",
       " 'C',\n",
       " 'A',\n",
       " 'A',\n",
       " 'T',\n",
       " 'A',\n",
       " 'T',\n",
       " 'A',\n",
       " 'T',\n",
       " 'T',\n",
       " 'G',\n",
       " 'A',\n",
       " 'G',\n",
       " 'T',\n",
       " 'A',\n",
       " 'A',\n",
       " 'G',\n",
       " 'T',\n",
       " 'G',\n",
       " 'G',\n",
       " 'T',\n",
       " 'A',\n",
       " 'G',\n",
       " 'A',\n",
       " 'A',\n",
       " 'T',\n",
       " 'G',\n",
       " 'T',\n",
       " 'C',\n",
       " 'T',\n",
       " 'G',\n",
       " 'C',\n",
       " 'A',\n",
       " 'C',\n",
       " 'T',\n",
       " 'G',\n",
       " 'T',\n",
       " 'T',\n",
       " 'C',\n",
       " 'A',\n",
       " 'A',\n",
       " 'G',\n",
       " 'G',\n",
       " 'A',\n",
       " 'T',\n",
       " 'T',\n",
       " 'G',\n",
       " 'G',\n",
       " 'T',\n",
       " 'A',\n",
       " 'G',\n",
       " 'G',\n",
       " 'C',\n",
       " 'A',\n",
       " 'G',\n",
       " 'G',\n",
       " 'C',\n",
       " 'T',\n",
       " 'G',\n",
       " 'G',\n",
       " 'T',\n",
       " 'A',\n",
       " 'G',\n",
       " 'G',\n",
       " 'G',\n",
       " 'C',\n",
       " 'A',\n",
       " 'T',\n",
       " 'C',\n",
       " 'A',\n",
       " 'A',\n",
       " 'T',\n",
       " 'G',\n",
       " 'T',\n",
       " 'C',\n",
       " 'G',\n",
       " 'G',\n",
       " 'C',\n",
       " 'C',\n",
       " 'C',\n",
       " 'A',\n",
       " 'A',\n",
       " 'C',\n",
       " 'C',\n",
       " 'A',\n",
       " 'A',\n",
       " 'A',\n",
       " 'C',\n",
       " 'G',\n",
       " 'T',\n",
       " 'T',\n",
       " 'T',\n",
       " 'G',\n",
       " 'G',\n",
       " 'G',\n",
       " 'T',\n",
       " 'G',\n",
       " 'A',\n",
       " 'G',\n",
       " 'G',\n",
       " 'T',\n",
       " 'T',\n",
       " 'A',\n",
       " 'G',\n",
       " 'G',\n",
       " 'A',\n",
       " 'C',\n",
       " 'A',\n",
       " 'G',\n",
       " 'C',\n",
       " 'C',\n",
       " 'A',\n",
       " 'A',\n",
       " 'T',\n",
       " 'G',\n",
       " 'A',\n",
       " 'C',\n",
       " 'G',\n",
       " 'C',\n",
       " 'G',\n",
       " 'G',\n",
       " 'G',\n",
       " 'A',\n",
       " 'A',\n",
       " 'G',\n",
       " 'G',\n",
       " 'C',\n",
       " 'T',\n",
       " 'T',\n",
       " 'A',\n",
       " 'C',\n",
       " 'A',\n",
       " 'C',\n",
       " 'G',\n",
       " 'C',\n",
       " 'T',\n",
       " 'T',\n",
       " 'T',\n",
       " 'A',\n",
       " 'T',\n",
       " 'C',\n",
       " 'T',\n",
       " 'A',\n",
       " 'A',\n",
       " 'G',\n",
       " 'T',\n",
       " 'G',\n",
       " 'T',\n",
       " 'T',\n",
       " 'T',\n",
       " 'G',\n",
       " 'G',\n",
       " 'T',\n",
       " 'G',\n",
       " 'A',\n",
       " 'A',\n",
       " 'T',\n",
       " 'G',\n",
       " 'T',\n",
       " 'A',\n",
       " 'A',\n",
       " 'C',\n",
       " 'G',\n",
       " 'T',\n",
       " 'T',\n",
       " 'C',\n",
       " 'T',\n",
       " 'A',\n",
       " 'T',\n",
       " 'A',\n",
       " 'T',\n",
       " 'G',\n",
       " 'A',\n",
       " 'C',\n",
       " 'A',\n",
       " 'C',\n",
       " 'C',\n",
       " 'G',\n",
       " 'C',\n",
       " 'T',\n",
       " 'C',\n",
       " 'T',\n",
       " 'A',\n",
       " 'C',\n",
       " 'A',\n",
       " 'T',\n",
       " 'C',\n",
       " 'T',\n",
       " 'G',\n",
       " 'A',\n",
       " 'G',\n",
       " 'A',\n",
       " 'G',\n",
       " 'G',\n",
       " 'G',\n",
       " 'G',\n",
       " 'C',\n",
       " 'C',\n",
       " 'T',\n",
       " 'G',\n",
       " 'G',\n",
       " 'A',\n",
       " 'G',\n",
       " 'C',\n",
       " 'T',\n",
       " 'G',\n",
       " 'A',\n",
       " 'C',\n",
       " 'C',\n",
       " 'A',\n",
       " 'A',\n",
       " 'G',\n",
       " 'G',\n",
       " 'A',\n",
       " 'G',\n",
       " 'T',\n",
       " 'C',\n",
       " 'A',\n",
       " 'C',\n",
       " 'G',\n",
       " 'A',\n",
       " 'G',\n",
       " 'C',\n",
       " 'G',\n",
       " 'A',\n",
       " 'A',\n",
       " 'A',\n",
       " 'T',\n",
       " 'T',\n",
       " 'G',\n",
       " 'A',\n",
       " 'C',\n",
       " 'A',\n",
       " ...]"
      ]
     },
     "execution_count": 10,
     "metadata": {},
     "output_type": "execute_result"
    }
   ],
   "source": [
    "import random as rn\n",
    "R=[rn.choice(['A','T','G','C']) for i in range(10000)]\n",
    "R"
   ]
  },
  {
   "cell_type": "code",
   "execution_count": 11,
   "metadata": {},
   "outputs": [
    {
     "data": {
      "text/plain": [
       "'CCAGAGTAAGTAAACTCCGTGCTATACATGGGTGTTCCCCGCTGGGCGTACTTTATCAGGAACCCAGCCAAATCAACAAGTGACCTTTGCCTGAGTTGAGGAAGAGACCACAATCGGGGGACGGTCACCATCGTATCCAAGGAGACGCCGTGTTCGCTCCAGCGACGACGCTAAACCCATTGTAAATATTACACCGATGAGCCCGCCTTAGTGATACTGGTGGTAGCCGCATTAGCAGGTGTGCCTTTTTATGTGCAGTCTTCATTATGCGCAGGGGCACGCACTTCTACGGAGGCAAACCGTCTAGACTATAGAAGGTTTGGGGAGGTAAATTAGGCGCGGCTCTTAATTCGCGAGGGTCTAAGGTGATTATTGCGCTCTGCATTGAGTAAGCCTCCCGATGGTGAGCAGGCAACACGTTGCAGTGGCGAAGCATGTGGAGGCGGTGCACTCCGCTATATGGGTATACTTGAGCTTAAGTAAGCAAGGAGGAACCAGACTTACCACTATTCGTAGGTGGTTCGCTTTGGGTTTCGTTGGGATATGTTCTCCTTGCTTCCTACAGAGGACTGAAGCGCAGCCTCCGTCCAATCTGCCCGAGCACTCCGATCTCGCTCGGCCCGCAGTCGACCAGGACCGGGAACTTACCTATATCCACTCTACCGCGCCACCTCCCATCAAGCACACGTCTAGCTGCTATACAGTACTTCTTAAGGACACCATTGCTTTCAAGACACTTCTTTAAGGGTTGCCCAGCCAACATCGCTTCAATATATTGAGTAAGTGGTAGAATGTCTGCACTGTTCAAGGATTGGTAGGCAGGCTGGTAGGGCATCAATGTCGGCCCAACCAAACGTTTGGGTGAGGTTAGGACAGCCAATGACGCGGGAAGGCTTACACGCTTTATCTAAGTGTTTGGTGAATGTAACGTTCTATATGACACCGCTCTACATCTGAGAGGGGCCTGGAGCTGACCAAGGAGTCACGAGCGAAATTGACACCTCAGTGGTCAACGGTGCACGCTCCTTTTCAGGAAGCATTTCCATTGAACGGGTTTTAACTTAGGAGATACTAAAGTCGAATAGGCGCTGCCGATACTCGTAGAACGTAATGGGTTGGGCCGACGGAAAGTCAGTTTTAAGTGCAAGGAAACCTCGGTGACGTTGTTGATAGAACGTTCAACGGTTAGGCGAGTTAGATCACTACGATTGCATCTCGCAGGGTCTGGTTCTATTTCCCCGTATCGACCTTAATAATAGCGGCGTACATGTTGGCAAAAGCAATCGAATCAGATGATTTACTCCTATAATAAGAGGCTTGGAGTTTCCCCGAAATACCTCCCACCGGAGACAGCTAGGTGGTTTTCACCACCACGATATTTAAATATCACGTTGTACCTATCCGATCTTTTTAAGGTCTCGTCGTGTTATAATGTGAAGACTAGCCCATGACTAATCCTTGTAGAACTAGATATAAGGCGAAGCACGACCGATAGACGTACAACATAGACTGTCTTCTGCATAAGTCATTGCAAGGTGAGTCGCACGTGTATTTCTAGATGAGGAGGAGAAATGTTGGCTGTGGCGATACGGACACTGGCAGAGGACTTGAAGGCGGAGTCCTTTGCAAGAAGTCCACTCTCATATGCCCAATTCAGGTTAGGGGTGTTATCACTGTATAGCAAAAGGCACCGCACTTAGATCCGTCAACGCAGCCCCTTTGCACATTGCTATCCCGTTCCATTCTCTTCCGAGCACAACTTAAACCAAGCGCTTGCAAGAAGGGCTAGGAGATCGTATGATGTCTGCGGTGGCAGCAAAGAGCGGCTTGAGATCTTTGGCACTAACGTAGTTAAGTGCTTGATTATGTAATGCCTGCACGAAGGAAGGTTCCAGTCCATCATACTTCCTACGGATAACTCCGAAGTGCGGCAGCAGCAAGACTGGCACATCTGGAGGGTCGTGGTATATTTTTTAATGCCCGCGTCCGATTATTCCCCTATTCCTAGTCGGTATTGGCAGAAAATGACATGCTCCACAGCTGCTACTCGAAACCAAAACAGCCACTATCGAGTCCAGAACAATAGAGGGAACTTTGCGCCTCTAGAGTAAGTTCCACTATTAGAGAACTATCCAACTTTGAGTCTTGGTATCCGTCGTTGCCAGTCCTCAGTGATAAGGTGGTAGAGCGCTCCAGATACCCAACGGGCAACCCCCTTTTCTATTGGTTCCTAACATGACACGTACACGGCAGTCTCGAATAGCAGTTCTCCAGGCAAGACTATGCCCCGCAATCTCTTGTGGCGCTCAGAAAGGGGCCCCTCATCCTGTTGTACGCGTACCGCGCACGCCTGTACAATTAGCGTGAGACCTTTCGATATTATTTCGATGGCCTATCTACTAGGTCGTATTCAATTTCATCCATTCCTAGGGACTCTATCAGCTAGCCCGCCATCCCCTCTGAGTGGTATGGTTGCTTGGGGGGTAAGAACCCAGAGGGGAGGATTCGTGGGAACCGAGCATTTGACCAGAGATAACAGCCACATGGTCTGCTGACATGAGGGTGAAGAATGATGCTGCCGAAATGCAGTTGATTGAACTCGGGCTACCAGCATCGACTCTTAAATCGATACGCTTGATGCCAGGCTTTGACGTTGCAAGGTTGTGATGGCCGCGCCAATCAAAGCCGCGGACCGACTAAATTATCCCTTCGCCGGACAAACTAGTTAGGGTGTCCACTTGTCGGCGGTCACTGTCAAGCTTGTGAGAGGACTGTACATTCCGATCGTACTTTACCTTTGAGTGCCCCAACAATACTTAACCGCGCAATTTCGGAGCTGTCTGGCCTGGGCAGATGGCTGTGAATGAGATACTATCCCATTAGAGTCATCTTCTTCTCAACGCGGTTGGCGTCGCCTTCATAACACTCTGTTGCAAATTTTCGGCCTCGAAGTATGAAACACCGTTATAGTCTGTCGCTGGCCCGCCCTCGTGAACCGCGGTCGCCAGGATCACGGTGCAGATTTCAGCTAGCATGCCTGATAATAGCTGCAGACCCTCGTGGGACCATCCAGCGTACCAAGTCGTAGCTACAGCCTCTGTCCTCCCGTAAGCTAAACTTTGTGAAGATGTATAGAGCCCTGATGTGATTGGCATGAACGGACACAAATCACGCCGTGACACGAGGAAGAACTTTCTGCTCTTAACTCGGCTAATAGATTGCGATTAGTTTTACAATCTTTAATATCTCTCCGGGACGGAACCGTAACTGTTCAGATCTCGAGAGCCTTGAAAGCAATTAGTTGCATGGGCGACTCACTATCATAACACTCCACTGGTTTTGGTATACGGCACAATAGAACCTTCTAGAAACGGTTTCTCAGACACTGTGGGTATGATGTGCTTTCTACAATTGAACCGCATATCCGTTCAACGCTGAATAGGTATTCCGTTTGGCACACCCTCCCTCACTCTCGAGAGTACGCGCAGAAGCGCGACTAAGCCGGTGGTCTTGTCCCTCGAAGGCTATCGGCGCTCCCTACGGGGCCTAAAGTGCAAATGACACAGACCTCACTTGGATTGCACTGGCTTCACCAGCACGGCCTCACTTTGCCGCGCTTTACAAAACGGAATTGTCTTCCCTGACACACTCCTTGCTTAAGGTAGCGACAGGTGGGTCCAGTTGATGTCTATTAACATGGGAATGAGGTTAGTAACTCCGGGGAGGGCTCACGTCCTTCGGCTATCAATTGCAGTCAGTATTCTCGTTTTAGGATCCAAGCTTATAATCTTCTTAATGAATCCCAGCGGCTAGTATGCTTCCTTTACACGCTACCAGCCAGGGACGTGAATTGTGCCTGCAAGTGACACTAGGAATCTGGCTACATCTTTCGGACCAATTTTTTAAATTATCGCACCGGGTTTAGTCAAGTGGGTCAGATAAGAAAGCCCAGGCCATATAATTATTTTGGAATAGGGGATCCGAAGACGCGGAAGCGACTCGCTTGCCTTTCAGGTACGTACTTACGCCGTGAGCTATCTGGTAGTATCTCCAGCATAACTCTATTCTCAGCGTCGATCGATACGTGAAGAAGGCTTGGTCCGGCGGTGATAGGACGGGCACCATAGTCTATCTAGAAGTCGGGAGGCAAGAAGGGGGGCAACCCTCCACGCCATCCGTTCATCAAGTAGACGGGAAGTTGTGTAGCCTTGGCCCAGCTCTGGCAGGTGCGATAAAGTCTGAATCGTATGAGAGAATCCACCTGACAAATTTGTCAACATAAACCAGCCCACGTTCGTGTAATACGAGAGGACCTTGGGGGAAGAACGTAGCGAGATCCGTCACATGTCACGATTTGGCATTAGGATTCCATTAAAAGAAGACTTCCTTGAAGATGAATACCGCCGAGACCCCGGTCATATGAGTGGGTTTCGGCCGTATAGGCGGCACTTGAAGAACTCACTCTGGGAAGCACGCCCGTAATTCCATCCTACTTGACCTCGTGTGCGTGAGATAGGTCACCTTGACTCCATTGGAAAAACGAATGAGCGTAGTTTAGTTCTCTCTTTATCTGCTTGCTACTCTTAGTACGTTAATGTCCTTCGTTTAAGAAATAGATGAAGTTCAAACCATATCGTCCAAGAACCAACACAGGACAAATGGTATATGAGGCCAAACGATAATTGTCTCTAATCGAACAACGACCAGTACGTAGCTTGTTTCGGTACCCAATTATACGTACACCAAGTTGCTACTGTTTAATATGTCTTCCTATTATCTGATCGCGCTACAGTGTCATTTGTGCGGACGATCCGAACAGTGGTGCTAGGGCCTGTGATCTTATCTCTTACTGCAGTCTGCGACAGTTACGCAGGAGTGGGACGGTGCGCGGGCAGATCGGCGAGCCCGAGACTTGGCAAACTAGTGAACGCTGTAATGACAAGCGAAAAACTCCCGGTCGGTCACGAATGACGCGATTTGTCCACTGGCTTGCTAAACAGTCTTTGTTGGACTACGTTTTAGCTCTGCCTCTCTTCGGGCATGCGTCCATTGTACGAATAAGACATCCCTTGTACAGCAAAGTATTCAGCGAGTGGGGCTGGAGACGCGCACGTTTGTTAGTTCAGCGTGCTGCTGAGGGAAGGCACCAAGATATGACCCGCCGACTCTCTCGACCATGCGAGCACCCACTAGCGGGCAGCATTCCACACCCCTAGACCCGCTATTTCTAATAGGCGGCCTCTAGTCTACGTCGAGGTCTAATGAGAAGGTTCCATAACCTAGCCGCGTGGTCGATTGGAATTGTGGACTATTTGCAACTACCACACGGCCATGGCAGCAAGATCAAGTCCGGCACCAATCTAGGCCCGAATGACGAATCGCCACAGAATTTCACGCCGAAAACTCAAGCGCGCAGAGTAAGTCGCATGGGGTCCGTTTAAGCATGGACCCGAAGAGGGATATGAGAAAAAAATACTGGCGTCCGGAGAATTTAATATGCGGCGTTCCCCTGATAATTCGAAACGTTTCACGTCGGCGTTAGGAGTTAATGACCCGGGATAAATTGGGTTAGGTTAACCTCCTCGACCCTCCCTCGTAACCTACTTCCGATCAGTACGATCCTCAATGAAGATTTCGCCCTTGTGCTTACAGTTATATAGGCGGTACCTACCAACTGCCTAGACATTACGCTCATTAGCTTGGAAGTTGGCGCTCTCCTACAACGCGGGTCTCAGTGCCTATGTACTCGACCGCCATCGTGCGCTCTTTGGACTCGCGGTCGACCACACAGCGCTCGATTCATTCTACTTGCGTCTGATACGCCAGGTCGATCCAGCCCATGGGGGGGAGGATTCTCGGCAGCTACTCCTGTGAGCCGTAATGCTGCATTAAGAACCGATCGAGGATGTCTCCCAAATTTGGACTACACCCCAGTGTTCTAGCGGCCATCCCCCGCATTATAGCCTGTAGCTGATGCTTTGTCTCCGCCAGGCGCAGGGACGGCAGAAGTGCAATATAGGGCCCAGTTTTACGACTTTGAATAAGACGGACGTTCGTACCATTGGTTCAGCAAAGAAGTCCGGCAGAAGACCGAGGTGTCCGGGTTGATTTACACGGGCAGCGAACCGGTATCCGTCCACTCTCCTCCGCCGACTCTCCCGAACTTAAATTGTATCCTAGCTAGAGTGGGTCCGAATTTCCTAATACGACAAACCTGGCTGTCGACATTAAACAAACGCCAGTTGTCATAGACAATGGCTAGGCATCTGGGACCCGGAAATAAGTGCTTTCTATGTCTTAATCGGGGACACGGCAATATCCCATAATCGCGCAAGTAACCTACGCGGTATCTCTCGACCTGCCTAATCCCCCTTTTGTCGATTACCCAGTGATTTCATTGTTGAGTGCGGATTAGCTGAAAACTCTTATGCTGGGGCGGGTTTACGGATTATACATAGTCGCTTGGGTGAATTAAAGCAAGGACCTAGCTGAGAAGCGAGCCGGATTAATGTCGTATTCTTACACGAGCCATAGCTCGTCAGTTGTGTACTACCGCCACGTTGGGACTCAGCCAAAGAACCCGTGCTTAGATAGCCAATGAGAGACCACTACAGCCATGAATTCCATGAAGCCGGTCGAAGTGGTAATGAGATTGGAACTCCGTTTTGATCGGGCTTAATTGTATTGGATATATGCCACATCTTCACGCCACACTGAAAACATAGGTTGTAATTGCAAATTCAGGCTTGGTGACGCTCGTATCGCTTAGCTGGGGGGCCTTCCCTCGTCTCCGCCTCCCGCTCTTTAGTCGTAAGATGCGGCAACTTCACACGCACCAACAGTTGAGGCGACCGTTTTCAGTAGAGTATAACAGCAGCGCGACACACTGAGCGCGGACTCCGGACATAATCACGCCGGTAGTGGGGAACATGGGGAGTGCGAATGCGACACGTAGGCTAACAGCCGTGTGTGATTGAGGCCGCCTCAAACTAAGGAAATGTCATAAAGCCTGAACTCTGGCTTGACGTGTGCTGTATTTTCCATACCGCCTAGAAAGAAAAAGAACTCGATGATTGCTCCCTTAGCGGCGTCGGCCGACCACACACGAGGTAGTGAACACTCACGGAACCAGTTAGTCCCGGATATTTGTGCGGGTCCAGTTTCGCGTGGCCCTCACCCTTCAGGCCTTTCGGTCGGCCTGTCGCAGCTTGGTTACGTACAGCGATGGGAGAGGGTACAATTAACGCAGGTTTGTTAAAACTAAGACGCTGCAGTAGCGCCGCGGTCACCTAGGGCCGGAAAGACTGTGTATTATTAAGATGTCAGCCATCAATCGTGTGTGTGGACTCTAGCTATGTTTAGATTAGAATGTCCTTGCGCGCAAGGTCACTAATGGAAGCATGCAGTCTGCCAAACTCGAGAGGAACGTCAATTACCTGCACAATTATGTCTTAAGGGTGGTCATTGCTTGTGACTATTGACAACCAAGTCACTCGCTCGAACCTGCTGATGAGATCGTAACAGCCAGCTCAAACAACCAATGGGCACATACCAGAGTTTGCAGCGCGAGGATGCTTCAGTTTATGAAAGAAAGGGCTAAATTCCGTTAGCCATTATTAGGGCACATCAATCAACTCCAGGTCGAGAGTTGTGTAATAACTAGCTCAGGACATCGGCTCAAGTCTCGTAGTTTAGGTATTTAGGTGGGCATAGGCAAAACACGGCACGTACGAGGCTATCTGCTGCGTTAAGTTAATAAGACCATGTGTCGCCTATAAGCAGTTGGAGACGGGGTGTTAAATGACTGCCCATGATGTTAGTTCTCTAGGCAGTAGCCTGCACGGCCCAACAGCCCCTTTATGTCGTATTTTAATGGAGGGTGCTACAACAAATTCCTGGGAGCGGTAGTGGTTACGAGTTAGTACGTTCTTGCGTCCAGGGTTATTTAAGAGCTCGCCGTACCCAGTGTGTTCCTTTTCTGTTTTCAACCATAAGCCCAGTCCAACAAATCGGCACGTAGATACAATAAGGGCAGCTTGCAAGCCAAAGCGGAGGGTAGTCAGCGCATCCCTCAAGCCGGTGTTGCACCCCGCGACGCTGACGAACCCCCAATGTATCGTGGAGGCGCAAACCGCCCAAGAGCCAACGCCTGGGAGATAGGACAGCTGTACCGTTATTAAAGGAACCGCATCATTTACTGAGGGCGTATGGCTACAGCCGAAGTGCTAGTATCACATAGATACGTTAGTCCTTGATACTCTTGTTACACTCTTGCCGAATGTACAAGTTCCGGGCCTCACAGGAACCTTCTTTCCTCGATAAAACATCTACCGATTTCCATTTTCCGGACTGGTCTCGTTTCCCCAGGATGTACCAGCACGAGTCCGTGCGAACTAAGTCATGACATGAACCCTTGCGTCTTTTGATCCTGAGGGAAGCACTACATTGGAGATCACTGCGAGAACTTACGCTGGTCGCCTTGTGTGGGAAAATTACTATGTCTAGGGTAACGTCCCCCGGAGGAAACTGATCAGAATGGAAGCGTAATTTAACGGGAACTGGCTGCCAAAAAGTCTCATTACACGAGACATGACCAATCCACGATCCTTCCAGAAATGGCATTCTGTAGCAGAAATGGCTTATTAGGAAGTCGCCTATGGGCAGCCCACGCCCTGGCAGTACATCGTGCCAAGTGGTTAACCCCCTATTTCGAGGTAAACGCCCCCGCGGCGAAGGCATCTATAGCGGGGTTCATGACGAATTTGTCGTCCGCGAGTTTCCAGTTGCCAATATCTATTCGATAATGCCACCGACTAAAGTTTAGACGCACTCTACCACGCGACGCGTGGTTAGGTCATCCTAAGATGATCCCTCCGGTCTACGATTTTTGCCATCCCATTTCGAGCCCAATCGTCCATTGTTGGTGCGCCACTCTCGCAGGGGACTTAGTCGGTCAGTCATACAGTGGTATGATGTGACCCGTGTATATCGATAGGTTTAGTGTTGGAGTGCCGAGATGTCAAAACAACTAGGACGAGACTTCTGGCCCGCACGAATGCTGGGATATCTATACATGTTTTACGCCTGCCTACTGGAGTGAACATCGTGTGTGTGAACCGGGTAGATGAGAAGGCGGTTGCCAGGTGACTATCTAACCACTAATCAGCGTTATAATCGAGGTGCTTAGTGTGCCAGTGCAAAGCATTTCCCTGCCACACGAAATCATTTATCGCAGGTCTCTATAATCTTACAAACTATTGGTTGATCTATCTGACATCAATATCATGGTGTCCTGTGAACGCCGAGCAGTAAGCTCAGAATTTAGAACCGTTATCCCAAGGTCGCAGCCTTGTTGTGTGAGTTTGGTCACTTACTTTGAGATACAACCGCTCTGGCACTTCAAGGTGTAACGAGTATCAAGTGGGTGCTGCCGGGAATCACTTTGGACTCTTCACGACAAATCGATGTTCCCCTTGACTTACCGTATGAGTTACGAGGCGCAATAAGCTTGCAAGCTTGAAACCTGTCTCTCGAAGACGCTCCCCACGATTATCCTCTTGCTCGTAGCGCACTGTGGACAATCCTCGCGCAGACTCATCTGGTCGAAAGCGCCTAGTCCGGTGTCGGGCGTATTGAGCCCCGTATCTAGCGGATCTGTTAGAAGACTGGCCGACAGTCGTACTCCGACGCCCCATAGTTCATCATTGTTCCGTTGCTGCAGCTAGAACATACATGGTAAGAGAAGTTGTATGGCTCAAGGTCGTATGCAGAGAGCACGTAGGTCCGTCCAGAAGTGCCCTGTTGGAACCGGCTGAGCTCTGGGCTCCCCCCAAAATCCCACCCGGGCTGTATCTAAACACAGCTGTGCAGGTAAAAGACTAAGAACCCCGATACAAGTAACCGATCGGCAGACGTGATAAATCGATGCATGCATTAGTGGCTGGAGATCTCCATCACCCCGCATTCCGGTGATTAGACGGCTAGAGCGTTCGGCTCTACC'"
      ]
     },
     "execution_count": 11,
     "metadata": {},
     "output_type": "execute_result"
    }
   ],
   "source": [
    "DNA=''.join(R)\n",
    "DNA"
   ]
  },
  {
   "cell_type": "code",
   "execution_count": 21,
   "metadata": {},
   "outputs": [
    {
     "data": {
      "text/plain": [
       "(2501, 2496, 2503, 2500, 610, 666)"
      ]
     },
     "execution_count": 21,
     "metadata": {},
     "output_type": "execute_result"
    }
   ],
   "source": [
    "DNA.count('A'), DNA.count('C'), DNA.count('T'), DNA.count('G'), DNA.count('AC'), DNA.count('AG')\n",
    "\n"
   ]
  },
  {
   "cell_type": "markdown",
   "metadata": {},
   "source": [
    "### Tuples\n",
    "\n",
    "Tuples are non-mutable, which means we can ot add or remove elements once tuple is defind."
   ]
  },
  {
   "cell_type": "markdown",
   "metadata": {},
   "source": [
    "- To define a tuples from scratch"
   ]
  },
  {
   "cell_type": "code",
   "execution_count": null,
   "metadata": {},
   "outputs": [],
   "source": [
    "t = (2,3,4,5)"
   ]
  },
  {
   "cell_type": "markdown",
   "metadata": {},
   "source": [
    "- Find type"
   ]
  },
  {
   "cell_type": "code",
   "execution_count": null,
   "metadata": {},
   "outputs": [],
   "source": [
    "type(t)"
   ]
  },
  {
   "cell_type": "markdown",
   "metadata": {},
   "source": [
    "- Indexing"
   ]
  },
  {
   "cell_type": "code",
   "execution_count": null,
   "metadata": {},
   "outputs": [],
   "source": [
    "t[1]"
   ]
  },
  {
   "cell_type": "code",
   "execution_count": null,
   "metadata": {},
   "outputs": [],
   "source": [
    "L = [(1,2),(2,3),(3,4)]"
   ]
  },
  {
   "cell_type": "code",
   "execution_count": null,
   "metadata": {},
   "outputs": [],
   "source": [
    "L[0][0]"
   ]
  },
  {
   "cell_type": "markdown",
   "metadata": {},
   "source": [
    "- Create a list of tuples"
   ]
  },
  {
   "cell_type": "code",
   "execution_count": null,
   "metadata": {},
   "outputs": [],
   "source": [
    "L = [(1,2),(\"a\",\"b\"),(True, False)]\n",
    "L"
   ]
  },
  {
   "cell_type": "markdown",
   "metadata": {},
   "source": [
    "### Dictionary\n",
    "\n",
    "Dictionary organizes the data with key-value pair. Dictionary can be nested with other data types."
   ]
  },
  {
   "cell_type": "markdown",
   "metadata": {},
   "source": [
    "- To initiate a dictionary"
   ]
  },
  {
   "cell_type": "code",
   "execution_count": null,
   "metadata": {},
   "outputs": [],
   "source": [
    "D = dict()\n",
    "DD = {}"
   ]
  },
  {
   "cell_type": "markdown",
   "metadata": {},
   "source": [
    "- Create a dictionary from scratch"
   ]
  },
  {
   "cell_type": "code",
   "execution_count": null,
   "metadata": {},
   "outputs": [],
   "source": [
    "D = {\"fruit\":'apple',\n",
    "    \"vegetable\" : 'carrot',\n",
    "    \"rice\": 2.0,\n",
    "    'milk': 10,}"
   ]
  },
  {
   "cell_type": "markdown",
   "metadata": {},
   "source": [
    "- What are keys?"
   ]
  },
  {
   "cell_type": "code",
   "execution_count": null,
   "metadata": {},
   "outputs": [],
   "source": [
    "D.keys()"
   ]
  },
  {
   "cell_type": "markdown",
   "metadata": {},
   "source": [
    "- What are values?"
   ]
  },
  {
   "cell_type": "code",
   "execution_count": null,
   "metadata": {},
   "outputs": [],
   "source": [
    "D.values()"
   ]
  },
  {
   "cell_type": "markdown",
   "metadata": {},
   "source": [
    "- Indexing"
   ]
  },
  {
   "cell_type": "code",
   "execution_count": null,
   "metadata": {},
   "outputs": [],
   "source": [
    "D['fruit'], D[\"rice\"]"
   ]
  },
  {
   "cell_type": "markdown",
   "metadata": {},
   "source": [
    "- Iteration over key and values"
   ]
  },
  {
   "cell_type": "code",
   "execution_count": null,
   "metadata": {},
   "outputs": [],
   "source": [
    "for key,value in D.items():\n",
    "    print(key,value)"
   ]
  },
  {
   "cell_type": "markdown",
   "metadata": {},
   "source": [
    "- To update a dictionary"
   ]
  },
  {
   "cell_type": "code",
   "execution_count": null,
   "metadata": {},
   "outputs": [],
   "source": [
    "D.update({\"salt\": 2.0})\n",
    "D"
   ]
  },
  {
   "cell_type": "markdown",
   "metadata": {},
   "source": [
    "- To create a list form a Dictionary. Only keys are collected."
   ]
  },
  {
   "cell_type": "code",
   "execution_count": null,
   "metadata": {},
   "outputs": [],
   "source": [
    "list(D)"
   ]
  },
  {
   "cell_type": "markdown",
   "metadata": {},
   "source": [
    "- To create a list of keys only"
   ]
  },
  {
   "cell_type": "code",
   "execution_count": null,
   "metadata": {},
   "outputs": [],
   "source": [
    "list(D.keys())"
   ]
  },
  {
   "cell_type": "markdown",
   "metadata": {},
   "source": [
    "- To create a list of values"
   ]
  },
  {
   "cell_type": "code",
   "execution_count": null,
   "metadata": {},
   "outputs": [],
   "source": [
    "list(D.values())"
   ]
  },
  {
   "cell_type": "markdown",
   "metadata": {},
   "source": [
    "- To create Dictionary of with list, tuples and dictionary"
   ]
  },
  {
   "cell_type": "code",
   "execution_count": null,
   "metadata": {},
   "outputs": [],
   "source": [
    "DD = {\"names\":(\"John\",\"Harry\", \"Brat\"),\\\n",
    "      \"roll no\": [1,2,3],\\\n",
    "      \"plan\":{\"first\":[12,34,56],\"second\":[1,3,5]}}\n",
    "\n",
    "DD"
   ]
  },
  {
   "cell_type": "code",
   "execution_count": null,
   "metadata": {},
   "outputs": [],
   "source": [
    "import numpy as np\n",
    "X = np.arange(0,np.pi,0.1)\n",
    "print(X)"
   ]
  },
  {
   "cell_type": "code",
   "execution_count": 23,
   "metadata": {},
   "outputs": [],
   "source": [
    "import numpy as np\n",
    "X = np.arange(0,np.pi,0.1)\n",
    "M = {\"sin\": [np.sin(x) for x in X],\\\n",
    "     \"cos\": [np.cos(x) for x in X],\\\n",
    "     \"plo\":[(x*x+x+1) for x in X],\\\n",
    "     \"trig\": [np.cos(x) + np.sin(x) for x in X]}"
   ]
  },
  {
   "cell_type": "code",
   "execution_count": 24,
   "metadata": {},
   "outputs": [
    {
     "name": "stdout",
     "output_type": "stream",
     "text": [
      "{'sin': [0.0, 0.09983341664682815, 0.19866933079506122, 0.2955202066613396, 0.3894183423086505, 0.479425538604203, 0.5646424733950355, 0.6442176872376911, 0.7173560908995228, 0.7833269096274834, 0.8414709848078965, 0.8912073600614354, 0.9320390859672264, 0.963558185417193, 0.9854497299884603, 0.9974949866040544, 0.9995736030415051, 0.9916648104524686, 0.9738476308781951, 0.9463000876874145, 0.9092974268256817, 0.8632093666488737, 0.8084964038195901, 0.74570521217672, 0.6754631805511506, 0.5984721441039564, 0.5155013718214642, 0.4273798802338298, 0.33498815015590466, 0.23924932921398198, 0.1411200080598672, 0.04158066243329049], 'cos': [1.0, 0.9950041652780258, 0.9800665778412416, 0.955336489125606, 0.9210609940028851, 0.8775825618903728, 0.8253356149096782, 0.7648421872844884, 0.6967067093471654, 0.6216099682706644, 0.5403023058681398, 0.4535961214255773, 0.3623577544766734, 0.26749882862458735, 0.16996714290024081, 0.0707372016677029, -0.029199522301288815, -0.12884449429552486, -0.2272020946930871, -0.3232895668635036, -0.4161468365471424, -0.5048461045998576, -0.5885011172553458, -0.6662760212798244, -0.7373937155412458, -0.8011436155469337, -0.8568887533689473, -0.9040721420170612, -0.9422223406686583, -0.9709581651495907, -0.9899924966004454, -0.9991351502732795], 'plo': [1.0, 1.11, 1.24, 1.3900000000000001, 1.56, 1.75, 1.9600000000000002, 2.1900000000000004, 2.4400000000000004, 2.71, 3.0, 3.3100000000000005, 3.6400000000000006, 3.99, 4.36, 4.75, 5.16, 5.590000000000001, 6.04, 6.510000000000001, 7.0, 7.51, 8.040000000000001, 8.590000000000002, 9.160000000000002, 9.75, 10.360000000000001, 10.990000000000002, 11.640000000000002, 12.310000000000002, 13.0, 13.71], 'trig': [1.0, 1.094837581924854, 1.1787359086363027, 1.2508566957869456, 1.3104793363115357, 1.3570081004945758, 1.3899780883047137, 1.4090598745221796, 1.4140628002466882, 1.4049368778981477, 1.3817732906760363, 1.3448034814870127, 1.2943968404438997, 1.2310570140417803, 1.155416872888701, 1.0682321882717574, 0.9703740807402162, 0.8628203161569437, 0.7466455361851081, 0.623010520823911, 0.4931505902785393, 0.35836326204901614, 0.21999528656424427, 0.0794291908968956, -0.061930534990095154, -0.20267147144297726, -0.34138738154748316, -0.47669226178323143, -0.6072341905127536, -0.7317088359356086, -0.8488724885405782, -0.957554487839989]}\n"
     ]
    }
   ],
   "source": [
    "print(M)"
   ]
  },
  {
   "cell_type": "code",
   "execution_count": 25,
   "metadata": {},
   "outputs": [
    {
     "data": {
      "text/html": [
       "<div>\n",
       "<style scoped>\n",
       "    .dataframe tbody tr th:only-of-type {\n",
       "        vertical-align: middle;\n",
       "    }\n",
       "\n",
       "    .dataframe tbody tr th {\n",
       "        vertical-align: top;\n",
       "    }\n",
       "\n",
       "    .dataframe thead th {\n",
       "        text-align: right;\n",
       "    }\n",
       "</style>\n",
       "<table border=\"1\" class=\"dataframe\">\n",
       "  <thead>\n",
       "    <tr style=\"text-align: right;\">\n",
       "      <th></th>\n",
       "      <th>sin</th>\n",
       "      <th>cos</th>\n",
       "      <th>plo</th>\n",
       "      <th>trig</th>\n",
       "    </tr>\n",
       "  </thead>\n",
       "  <tbody>\n",
       "    <tr>\n",
       "      <th>0</th>\n",
       "      <td>0.000000</td>\n",
       "      <td>1.000000</td>\n",
       "      <td>1.00</td>\n",
       "      <td>1.000000</td>\n",
       "    </tr>\n",
       "    <tr>\n",
       "      <th>1</th>\n",
       "      <td>0.099833</td>\n",
       "      <td>0.995004</td>\n",
       "      <td>1.11</td>\n",
       "      <td>1.094838</td>\n",
       "    </tr>\n",
       "    <tr>\n",
       "      <th>2</th>\n",
       "      <td>0.198669</td>\n",
       "      <td>0.980067</td>\n",
       "      <td>1.24</td>\n",
       "      <td>1.178736</td>\n",
       "    </tr>\n",
       "    <tr>\n",
       "      <th>3</th>\n",
       "      <td>0.295520</td>\n",
       "      <td>0.955336</td>\n",
       "      <td>1.39</td>\n",
       "      <td>1.250857</td>\n",
       "    </tr>\n",
       "    <tr>\n",
       "      <th>4</th>\n",
       "      <td>0.389418</td>\n",
       "      <td>0.921061</td>\n",
       "      <td>1.56</td>\n",
       "      <td>1.310479</td>\n",
       "    </tr>\n",
       "    <tr>\n",
       "      <th>5</th>\n",
       "      <td>0.479426</td>\n",
       "      <td>0.877583</td>\n",
       "      <td>1.75</td>\n",
       "      <td>1.357008</td>\n",
       "    </tr>\n",
       "    <tr>\n",
       "      <th>6</th>\n",
       "      <td>0.564642</td>\n",
       "      <td>0.825336</td>\n",
       "      <td>1.96</td>\n",
       "      <td>1.389978</td>\n",
       "    </tr>\n",
       "    <tr>\n",
       "      <th>7</th>\n",
       "      <td>0.644218</td>\n",
       "      <td>0.764842</td>\n",
       "      <td>2.19</td>\n",
       "      <td>1.409060</td>\n",
       "    </tr>\n",
       "    <tr>\n",
       "      <th>8</th>\n",
       "      <td>0.717356</td>\n",
       "      <td>0.696707</td>\n",
       "      <td>2.44</td>\n",
       "      <td>1.414063</td>\n",
       "    </tr>\n",
       "    <tr>\n",
       "      <th>9</th>\n",
       "      <td>0.783327</td>\n",
       "      <td>0.621610</td>\n",
       "      <td>2.71</td>\n",
       "      <td>1.404937</td>\n",
       "    </tr>\n",
       "    <tr>\n",
       "      <th>10</th>\n",
       "      <td>0.841471</td>\n",
       "      <td>0.540302</td>\n",
       "      <td>3.00</td>\n",
       "      <td>1.381773</td>\n",
       "    </tr>\n",
       "    <tr>\n",
       "      <th>11</th>\n",
       "      <td>0.891207</td>\n",
       "      <td>0.453596</td>\n",
       "      <td>3.31</td>\n",
       "      <td>1.344803</td>\n",
       "    </tr>\n",
       "    <tr>\n",
       "      <th>12</th>\n",
       "      <td>0.932039</td>\n",
       "      <td>0.362358</td>\n",
       "      <td>3.64</td>\n",
       "      <td>1.294397</td>\n",
       "    </tr>\n",
       "    <tr>\n",
       "      <th>13</th>\n",
       "      <td>0.963558</td>\n",
       "      <td>0.267499</td>\n",
       "      <td>3.99</td>\n",
       "      <td>1.231057</td>\n",
       "    </tr>\n",
       "    <tr>\n",
       "      <th>14</th>\n",
       "      <td>0.985450</td>\n",
       "      <td>0.169967</td>\n",
       "      <td>4.36</td>\n",
       "      <td>1.155417</td>\n",
       "    </tr>\n",
       "    <tr>\n",
       "      <th>15</th>\n",
       "      <td>0.997495</td>\n",
       "      <td>0.070737</td>\n",
       "      <td>4.75</td>\n",
       "      <td>1.068232</td>\n",
       "    </tr>\n",
       "    <tr>\n",
       "      <th>16</th>\n",
       "      <td>0.999574</td>\n",
       "      <td>-0.029200</td>\n",
       "      <td>5.16</td>\n",
       "      <td>0.970374</td>\n",
       "    </tr>\n",
       "    <tr>\n",
       "      <th>17</th>\n",
       "      <td>0.991665</td>\n",
       "      <td>-0.128844</td>\n",
       "      <td>5.59</td>\n",
       "      <td>0.862820</td>\n",
       "    </tr>\n",
       "    <tr>\n",
       "      <th>18</th>\n",
       "      <td>0.973848</td>\n",
       "      <td>-0.227202</td>\n",
       "      <td>6.04</td>\n",
       "      <td>0.746646</td>\n",
       "    </tr>\n",
       "    <tr>\n",
       "      <th>19</th>\n",
       "      <td>0.946300</td>\n",
       "      <td>-0.323290</td>\n",
       "      <td>6.51</td>\n",
       "      <td>0.623011</td>\n",
       "    </tr>\n",
       "    <tr>\n",
       "      <th>20</th>\n",
       "      <td>0.909297</td>\n",
       "      <td>-0.416147</td>\n",
       "      <td>7.00</td>\n",
       "      <td>0.493151</td>\n",
       "    </tr>\n",
       "    <tr>\n",
       "      <th>21</th>\n",
       "      <td>0.863209</td>\n",
       "      <td>-0.504846</td>\n",
       "      <td>7.51</td>\n",
       "      <td>0.358363</td>\n",
       "    </tr>\n",
       "    <tr>\n",
       "      <th>22</th>\n",
       "      <td>0.808496</td>\n",
       "      <td>-0.588501</td>\n",
       "      <td>8.04</td>\n",
       "      <td>0.219995</td>\n",
       "    </tr>\n",
       "    <tr>\n",
       "      <th>23</th>\n",
       "      <td>0.745705</td>\n",
       "      <td>-0.666276</td>\n",
       "      <td>8.59</td>\n",
       "      <td>0.079429</td>\n",
       "    </tr>\n",
       "    <tr>\n",
       "      <th>24</th>\n",
       "      <td>0.675463</td>\n",
       "      <td>-0.737394</td>\n",
       "      <td>9.16</td>\n",
       "      <td>-0.061931</td>\n",
       "    </tr>\n",
       "    <tr>\n",
       "      <th>25</th>\n",
       "      <td>0.598472</td>\n",
       "      <td>-0.801144</td>\n",
       "      <td>9.75</td>\n",
       "      <td>-0.202671</td>\n",
       "    </tr>\n",
       "    <tr>\n",
       "      <th>26</th>\n",
       "      <td>0.515501</td>\n",
       "      <td>-0.856889</td>\n",
       "      <td>10.36</td>\n",
       "      <td>-0.341387</td>\n",
       "    </tr>\n",
       "    <tr>\n",
       "      <th>27</th>\n",
       "      <td>0.427380</td>\n",
       "      <td>-0.904072</td>\n",
       "      <td>10.99</td>\n",
       "      <td>-0.476692</td>\n",
       "    </tr>\n",
       "    <tr>\n",
       "      <th>28</th>\n",
       "      <td>0.334988</td>\n",
       "      <td>-0.942222</td>\n",
       "      <td>11.64</td>\n",
       "      <td>-0.607234</td>\n",
       "    </tr>\n",
       "    <tr>\n",
       "      <th>29</th>\n",
       "      <td>0.239249</td>\n",
       "      <td>-0.970958</td>\n",
       "      <td>12.31</td>\n",
       "      <td>-0.731709</td>\n",
       "    </tr>\n",
       "    <tr>\n",
       "      <th>30</th>\n",
       "      <td>0.141120</td>\n",
       "      <td>-0.989992</td>\n",
       "      <td>13.00</td>\n",
       "      <td>-0.848872</td>\n",
       "    </tr>\n",
       "    <tr>\n",
       "      <th>31</th>\n",
       "      <td>0.041581</td>\n",
       "      <td>-0.999135</td>\n",
       "      <td>13.71</td>\n",
       "      <td>-0.957554</td>\n",
       "    </tr>\n",
       "  </tbody>\n",
       "</table>\n",
       "</div>"
      ],
      "text/plain": [
       "         sin       cos    plo      trig\n",
       "0   0.000000  1.000000   1.00  1.000000\n",
       "1   0.099833  0.995004   1.11  1.094838\n",
       "2   0.198669  0.980067   1.24  1.178736\n",
       "3   0.295520  0.955336   1.39  1.250857\n",
       "4   0.389418  0.921061   1.56  1.310479\n",
       "5   0.479426  0.877583   1.75  1.357008\n",
       "6   0.564642  0.825336   1.96  1.389978\n",
       "7   0.644218  0.764842   2.19  1.409060\n",
       "8   0.717356  0.696707   2.44  1.414063\n",
       "9   0.783327  0.621610   2.71  1.404937\n",
       "10  0.841471  0.540302   3.00  1.381773\n",
       "11  0.891207  0.453596   3.31  1.344803\n",
       "12  0.932039  0.362358   3.64  1.294397\n",
       "13  0.963558  0.267499   3.99  1.231057\n",
       "14  0.985450  0.169967   4.36  1.155417\n",
       "15  0.997495  0.070737   4.75  1.068232\n",
       "16  0.999574 -0.029200   5.16  0.970374\n",
       "17  0.991665 -0.128844   5.59  0.862820\n",
       "18  0.973848 -0.227202   6.04  0.746646\n",
       "19  0.946300 -0.323290   6.51  0.623011\n",
       "20  0.909297 -0.416147   7.00  0.493151\n",
       "21  0.863209 -0.504846   7.51  0.358363\n",
       "22  0.808496 -0.588501   8.04  0.219995\n",
       "23  0.745705 -0.666276   8.59  0.079429\n",
       "24  0.675463 -0.737394   9.16 -0.061931\n",
       "25  0.598472 -0.801144   9.75 -0.202671\n",
       "26  0.515501 -0.856889  10.36 -0.341387\n",
       "27  0.427380 -0.904072  10.99 -0.476692\n",
       "28  0.334988 -0.942222  11.64 -0.607234\n",
       "29  0.239249 -0.970958  12.31 -0.731709\n",
       "30  0.141120 -0.989992  13.00 -0.848872\n",
       "31  0.041581 -0.999135  13.71 -0.957554"
      ]
     },
     "execution_count": 25,
     "metadata": {},
     "output_type": "execute_result"
    }
   ],
   "source": [
    "import pandas as pd\n",
    "DF = pd.DataFrame(M)\n",
    "DF"
   ]
  },
  {
   "cell_type": "code",
   "execution_count": null,
   "metadata": {},
   "outputs": [],
   "source": [
    "%matplotlib inline\n",
    "DF.plot()"
   ]
  },
  {
   "cell_type": "markdown",
   "metadata": {},
   "source": [
    "### References:\n",
    "1. https://docs.python.org/3/tutorial/index.html"
   ]
  }
 ],
 "metadata": {
  "kernelspec": {
   "display_name": "Python 3",
   "language": "python",
   "name": "python3"
  },
  "language_info": {
   "codemirror_mode": {
    "name": "ipython",
    "version": 3
   },
   "file_extension": ".py",
   "mimetype": "text/x-python",
   "name": "python",
   "nbconvert_exporter": "python",
   "pygments_lexer": "ipython3",
   "version": "3.7.6"
  }
 },
 "nbformat": 4,
 "nbformat_minor": 2
}
