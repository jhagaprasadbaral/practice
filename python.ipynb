{
 "cells": [
  {
   "cell_type": "markdown",
   "metadata": {},
   "source": [
    "# Title "
   ]
  },
  {
   "cell_type": "code",
   "execution_count": null,
   "metadata": {},
   "outputs": [],
   "source": [
    "\n"
   ]
  },
  {
   "cell_type": "markdown",
   "metadata": {},
   "source": [
    "## subtitle"
   ]
  },
  {
   "cell_type": "markdown",
   "metadata": {},
   "source": [
    "### subsub title"
   ]
  },
  {
   "cell_type": "markdown",
   "metadata": {},
   "source": [
    "$x^3+3x^2-5x+8=4$"
   ]
  },
  {
   "cell_type": "markdown",
   "metadata": {},
   "source": [
    "$\\frac{dy}{dx}+2x+9=0$"
   ]
  },
  {
   "cell_type": "markdown",
   "metadata": {},
   "source": [
    "$\\frac{dy}{dx}$"
   ]
  },
  {
   "cell_type": "markdown",
   "metadata": {},
   "source": [
    "$\\frac{dy^2}{dx^2}+3x=0$"
   ]
  },
  {
   "cell_type": "markdown",
   "metadata": {},
   "source": [
    "$\\frac{dy^2}{dx^2}+5x=0$"
   ]
  },
  {
   "cell_type": "markdown",
   "metadata": {},
   "source": [
    "$\\frac{dy^2}{dx^2}+5x$"
   ]
  },
  {
   "cell_type": "markdown",
   "metadata": {},
   "source": [
    "$\\frac{d^2y}{dx^2}$"
   ]
  },
  {
   "cell_type": "markdown",
   "metadata": {},
   "source": [
    "$\\frac{d^2y}{dx^2}$"
   ]
  },
  {
   "cell_type": "markdown",
   "metadata": {},
   "source": [
    "$3\\frac{d^2y}{dx^2}+5x=9$"
   ]
  },
  {
   "cell_type": "markdown",
   "metadata": {},
   "source": [
    "$3\\frac{d^2y}{dx^2}+5x=8$"
   ]
  },
  {
   "cell_type": "markdown",
   "metadata": {},
   "source": [
    "$2\\frac{dy}{dx}$"
   ]
  },
  {
   "cell_type": "markdown",
   "metadata": {},
   "source": [
    "$2\\frac{dy}{dx}$"
   ]
  },
  {
   "cell_type": "markdown",
   "metadata": {},
   "source": [
    "alpha($\\alpha$)"
   ]
  },
  {
   "cell_type": "markdown",
   "metadata": {},
   "source": [
    "alpha($\\alpha$)"
   ]
  },
  {
   "cell_type": "markdown",
   "metadata": {},
   "source": [
    "alpha($\\alpha$)"
   ]
  },
  {
   "cell_type": "markdown",
   "metadata": {},
   "source": [
    "$3\\frac{a}{b}$"
   ]
  },
  {
   "cell_type": "markdown",
   "metadata": {},
   "source": [
    "$3\\frac{a}{b}$"
   ]
  },
  {
   "cell_type": "markdown",
   "metadata": {},
   "source": [
    "$\\frac{a}{b}$"
   ]
  },
  {
   "cell_type": "markdown",
   "metadata": {},
   "source": [
    "$4\\frac{a}{b}$"
   ]
  },
  {
   "cell_type": "markdown",
   "metadata": {},
   "source": [
    "$2\\frac{a}{b}$"
   ]
  },
  {
   "cell_type": "markdown",
   "metadata": {},
   "source": [
    "$3\\frac{d^2y}{x^2}+5x-4=0$"
   ]
  },
  {
   "cell_type": "markdown",
   "metadata": {},
   "source": [
    "$3\\frac{d^2y}{dx^2}+5\\frac{dy}{dx}+9x-6=0$"
   ]
  },
  {
   "cell_type": "markdown",
   "metadata": {},
   "source": [
    "$\\alpha$"
   ]
  },
  {
   "cell_type": "markdown",
   "metadata": {},
   "source": [
    "$\\alpha^2$"
   ]
  },
  {
   "cell_type": "markdown",
   "metadata": {},
   "source": [
    "$\\hbar^2$"
   ]
  },
  {
   "cell_type": "code",
   "execution_count": null,
   "metadata": {},
   "outputs": [],
   "source": [
    "$\\vecta$"
   ]
  },
  {
   "cell_type": "markdown",
   "metadata": {},
   "source": [
    "$\\alpha$"
   ]
  },
  {
   "cell_type": "markdown",
   "metadata": {},
   "source": [
    "$\\beta$"
   ]
  },
  {
   "cell_type": "markdown",
   "metadata": {},
   "source": [
    "$\\gamma^3$"
   ]
  },
  {
   "cell_type": "markdown",
   "metadata": {},
   "source": [
    "$\\kappa^2+2=0$"
   ]
  },
  {
   "cell_type": "markdown",
   "metadata": {},
   "source": [
    "$\\alpha^2+3\\alpha=9$"
   ]
  },
  {
   "cell_type": "markdown",
   "metadata": {},
   "source": [
    "alpha($\\alpha$)"
   ]
  },
  {
   "cell_type": "markdown",
   "metadata": {},
   "source": [
    "theta($\\theta$)"
   ]
  },
  {
   "cell_type": "markdown",
   "metadata": {},
   "source": [
    "eta($\\eta$)"
   ]
  },
  {
   "cell_type": "markdown",
   "metadata": {},
   "source": [
    "$\\alpha^2+\\beta^2+\\gamma^2=1$"
   ]
  },
  {
   "cell_type": "markdown",
   "metadata": {},
   "source": [
    "$\\alpha^2+\\beta^2+\\gamma^2=1$\n"
   ]
  },
  {
   "cell_type": "markdown",
   "metadata": {},
   "source": [
    "$\\alpha^2+\\beta^2+\\gamma^2=1$"
   ]
  },
  {
   "cell_type": "markdown",
   "metadata": {},
   "source": [
    "$\\nabla^2\\psi=0$"
   ]
  },
  {
   "cell_type": "markdown",
   "metadata": {},
   "source": [
    "$\\nabla^2\\psi=0$"
   ]
  },
  {
   "cell_type": "markdown",
   "metadata": {},
   "source": [
    "$\\hbar^2$"
   ]
  },
  {
   "cell_type": "markdown",
   "metadata": {},
   "source": [
    "$\\nabla^2\\psi+\\frac{\\hbar^2}{2m}(E-V)\\psi=0$"
   ]
  },
  {
   "cell_type": "markdown",
   "metadata": {},
   "source": [
    "$\\int_0^\\infty xdx$"
   ]
  },
  {
   "cell_type": "markdown",
   "metadata": {},
   "source": [
    "$x_y^z$"
   ]
  },
  {
   "cell_type": "markdown",
   "metadata": {},
   "source": [
    "$F_a+b^c+d$"
   ]
  },
  {
   "cell_type": "markdown",
   "metadata": {},
   "source": [
    "$F_(a+b)^(c+d)$"
   ]
  },
  {
   "cell_type": "markdown",
   "metadata": {},
   "source": [
    "$\\int_0^a{\\int_0^b}(xdx)$"
   ]
  },
  {
   "cell_type": "markdown",
   "metadata": {},
   "source": [
    "$\\alpha,\\beta,\\gamma,\\delta$"
   ]
  },
  {
   "cell_type": "markdown",
   "metadata": {},
   "source": [
    "![image](data:image/jpeg;base64,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)"
   ]
  },
  {
   "cell_type": "markdown",
   "metadata": {},
   "source": [
    "![image](https://scontent.fktm1-1.fna.fbcdn.net/v/t31.0-8/c286.0.1536.1536a/s851x315/10495710_745848078805724_7223468790317747332_o.jpg?_nc_cat=104&_nc_sid=da31f3&_nc_eui2=AeHrxGKE_Pxn-ysoehGabQkMTa0bXGEUayFNrRtcYRRrIX20vDbgBaW2F2w4TSu0Ddn0FZhol5YbIqfnXOVrCWPi&_nc_ohc=1mIkDnmeoFgAX-PUj8k&_nc_ht=scontent.fktm1-1.fna&oh=89cdad9f9b0130c6b84bade924742a4b&oe=5F2AF6DF)"
   ]
  },
  {
   "cell_type": "markdown",
   "metadata": {},
   "source": [
    "![image](photo.jpg)"
   ]
  },
  {
   "cell_type": "markdown",
   "metadata": {},
   "source": [
    "$x^{n+w}_{a+b}$"
   ]
  },
  {
   "cell_type": "markdown",
   "metadata": {},
   "source": [
    "$\\int_{-\\infty}^{+\\infty}x^2dx$"
   ]
  },
  {
   "cell_type": "markdown",
   "metadata": {},
   "source": [
    "${lim_{x\\to\\infty }}\\frac{x^2+7}{x^2-3}$"
   ]
  },
  {
   "cell_type": "markdown",
   "metadata": {},
   "source": [
    "$\\overrightarrow{AB}$"
   ]
  },
  {
   "cell_type": "markdown",
   "metadata": {},
   "source": [
    "$5\\frac{\\partial{^2y}}{\\partial{x^2}}+2\\frac{\\partial{y}}{\\partial{x}}+10=0$"
   ]
  },
  {
   "cell_type": "markdown",
   "metadata": {},
   "source": [
    "$\\nabla.\\overrightarrow{B}=0$"
   ]
  },
  {
   "cell_type": "markdown",
   "metadata": {},
   "source": [
    "$e^x$"
   ]
  },
  {
   "cell_type": "markdown",
   "metadata": {},
   "source": [
    "$\\delta{E}$"
   ]
  },
  {
   "cell_type": "markdown",
   "metadata": {},
   "source": [
    "\n",
    "\n"
   ]
  },
  {
   "cell_type": "code",
   "execution_count": 1,
   "metadata": {},
   "outputs": [
    {
     "name": "stdout",
     "output_type": "stream",
     "text": [
      "[0, 1, 2, 3, 4, 5, 6, 7, 8, 9, 10, 11, 12, 13, 14, 15, 16, 17, 18, 19, 20, 21, 22, 23, 24, 25, 26, 27, 28, 29, 30, 31, 32, 33, 34, 35, 36, 37, 38, 39, 40, 41, 42, 43, 44, 45, 46, 47, 48, 49]\n"
     ]
    }
   ],
   "source": [
    "L=[x for x in range(50)]\n",
    "print(L) \n"
   ]
  },
  {
   "cell_type": "code",
   "execution_count": 6,
   "metadata": {},
   "outputs": [
    {
     "name": "stdout",
     "output_type": "stream",
     "text": [
      "[0, 1, 2, 3, 4, 5, 6, 7, 8, 9, 10, 11, 12, 13, 14, 15, 16, 17, 18, 19, 20, 21, 22, 23, 24, 25, 26, 27, 28, 29, 30, 31, 32, 33, 34, 35, 36, 37, 38, 39, 40, 41, 42, 43, 44, 45, 46, 47, 48, 49, 50, 51, 52, 53, 54, 55, 56, 57, 58, 59, 60, 61, 62, 63, 64, 65, 66, 67, 68, 69, 70, 71, 72, 73, 74, 75, 76, 77, 78, 79, 80, 81, 82, 83, 84, 85, 86, 87, 88, 89, 90, 91, 92, 93, 94, 95, 96, 97, 98, 99]\n"
     ]
    }
   ],
   "source": [
    "L=[x for x in range (100)]\n",
    "print(L)"
   ]
  },
  {
   "cell_type": "code",
   "execution_count": 7,
   "metadata": {},
   "outputs": [
    {
     "name": "stdout",
     "output_type": "stream",
     "text": [
      "[0, 1, 2, 3, 4, 5, 6, 7, 8, 9, 10, 11, 12, 13, 14, 15, 16, 17, 18, 19, 20, 21, 22, 23, 24]\n"
     ]
    }
   ],
   "source": [
    "M=[a for a in range(25)]\n",
    "print(M)"
   ]
  },
  {
   "cell_type": "code",
   "execution_count": 11,
   "metadata": {},
   "outputs": [
    {
     "name": "stdout",
     "output_type": "stream",
     "text": [
      "[0, 4, 8, 12, 16, 20, 24, 28, 32, 36, 40, 44, 48, 52, 56, 60, 64, 68, 72, 76, 80, 84, 88, 92, 96, 100, 104, 108, 112, 116, 120, 124, 128, 132, 136, 140, 144, 148, 152, 156, 160, 164, 168, 172, 176, 180, 184, 188, 192, 196]\n"
     ]
    }
   ],
   "source": [
    "L=[x for x in range (200) if x%4==0]\n",
    "print(L)"
   ]
  },
  {
   "cell_type": "code",
   "execution_count": 17,
   "metadata": {},
   "outputs": [
    {
     "name": "stdout",
     "output_type": "stream",
     "text": [
      "[0, 3, 6, 9, 12, 15, 18, 21, 24, 27, 30, 33, 36, 39, 42, 45, 48, 51, 54, 57, 60, 63, 66, 69, 72, 75, 78, 81, 84, 87, 90, 93, 96, 99, 102, 105, 108, 111, 114, 117, 120, 123, 126, 129, 132, 135, 138, 141, 144, 147, 150, 153, 156, 159, 162, 165, 168, 171, 174, 177, 180, 183, 186, 189, 192, 195, 198]\n"
     ]
    }
   ],
   "source": [
    "L=[x for x in range (200) if x%3==0]\n",
    "print(L)"
   ]
  },
  {
   "cell_type": "code",
   "execution_count": 25,
   "metadata": {},
   "outputs": [
    {
     "data": {
      "text/plain": [
       "18"
      ]
     },
     "execution_count": 25,
     "metadata": {},
     "output_type": "execute_result"
    }
   ],
   "source": [
    "import random as rn\n",
    "rn.randint(0,100)"
   ]
  },
  {
   "cell_type": "code",
   "execution_count": 38,
   "metadata": {},
   "outputs": [
    {
     "name": "stdout",
     "output_type": "stream",
     "text": [
      "[14, 12, 10, 10, 15, 11, 11, 12, 15, 12, 14, 14, 11, 13, 11, 11, 14, 11, 10, 15, 11, 10, 13, 10, 15]\n"
     ]
    }
   ],
   "source": [
    "import random as rm\n",
    "R = [rm. randint(10,15) for k in range(25)]\n",
    "print(R)"
   ]
  },
  {
   "cell_type": "code",
   "execution_count": 39,
   "metadata": {},
   "outputs": [
    {
     "data": {
      "text/plain": [
       "3"
      ]
     },
     "execution_count": 39,
     "metadata": {},
     "output_type": "execute_result"
    }
   ],
   "source": [
    "import random as rm\n",
    "rm.randint(0,10)"
   ]
  },
  {
   "cell_type": "code",
   "execution_count": 40,
   "metadata": {},
   "outputs": [
    {
     "name": "stdout",
     "output_type": "stream",
     "text": [
      "Counter({11: 7, 10: 5, 14: 4, 15: 4, 12: 3, 13: 2})\n"
     ]
    }
   ],
   "source": [
    "import collections\n",
    "#High Performance Counting\n",
    "C = collections.Counter(R)\n",
    "print(C)"
   ]
  },
  {
   "cell_type": "code",
   "execution_count": 1,
   "metadata": {},
   "outputs": [
    {
     "data": {
      "text/plain": [
       "55"
      ]
     },
     "execution_count": 1,
     "metadata": {},
     "output_type": "execute_result"
    }
   ],
   "source": [
    "L=[1,2,3,4,5,6,7,8,9,10]\n",
    "sum(L)"
   ]
  },
  {
   "cell_type": "code",
   "execution_count": 2,
   "metadata": {},
   "outputs": [
    {
     "data": {
      "text/plain": [
       "10"
      ]
     },
     "execution_count": 2,
     "metadata": {},
     "output_type": "execute_result"
    }
   ],
   "source": [
    "max(L)"
   ]
  },
  {
   "cell_type": "code",
   "execution_count": 3,
   "metadata": {},
   "outputs": [
    {
     "data": {
      "text/plain": [
       "1"
      ]
     },
     "execution_count": 3,
     "metadata": {},
     "output_type": "execute_result"
    }
   ],
   "source": [
    "min(L)"
   ]
  },
  {
   "cell_type": "code",
   "execution_count": 8,
   "metadata": {},
   "outputs": [
    {
     "data": {
      "text/plain": [
       "[1, 2, 3, 4, 5, 6, 7, 8, 9, 10, 11, 11, 12, 16]"
      ]
     },
     "execution_count": 8,
     "metadata": {},
     "output_type": "execute_result"
    }
   ],
   "source": [
    "L.append(16)\n",
    "L"
   ]
  },
  {
   "cell_type": "code",
   "execution_count": 9,
   "metadata": {},
   "outputs": [
    {
     "data": {
      "text/plain": [
       "105"
      ]
     },
     "execution_count": 9,
     "metadata": {},
     "output_type": "execute_result"
    }
   ],
   "source": [
    "sum(L)"
   ]
  },
  {
   "cell_type": "code",
   "execution_count": 11,
   "metadata": {},
   "outputs": [
    {
     "data": {
      "text/plain": [
       "[1, 2, 3, 4, 5, 6, 7, 8, 9, 10, 11, 11, 12, 16, 14]"
      ]
     },
     "execution_count": 11,
     "metadata": {},
     "output_type": "execute_result"
    }
   ],
   "source": [
    "L.append(14)\n",
    "L"
   ]
  },
  {
   "cell_type": "code",
   "execution_count": 15,
   "metadata": {},
   "outputs": [
    {
     "data": {
      "text/plain": [
       "[5, 10, 15]"
      ]
     },
     "execution_count": 15,
     "metadata": {},
     "output_type": "execute_result"
    }
   ],
   "source": [
    "L=[[1,2,3],[2,4,6],[5,10,15]]\n",
    "L[2]"
   ]
  },
  {
   "cell_type": "code",
   "execution_count": 24,
   "metadata": {},
   "outputs": [
    {
     "data": {
      "text/plain": [
       "[1, 2, 3, 5, 6, 7, 8, 11, 16]"
      ]
     },
     "execution_count": 24,
     "metadata": {},
     "output_type": "execute_result"
    }
   ],
   "source": [
    "L=[1,2,3,4,5,6,7,8,11,16]\n",
    "L.remove(4)\n",
    "L"
   ]
  },
  {
   "cell_type": "code",
   "execution_count": 25,
   "metadata": {},
   "outputs": [
    {
     "data": {
      "text/plain": [
       "[16, 11, 8, 7, 6, 5, 3, 2, 1]"
      ]
     },
     "execution_count": 25,
     "metadata": {},
     "output_type": "execute_result"
    }
   ],
   "source": [
    "L.reverse()\n",
    "L"
   ]
  },
  {
   "cell_type": "code",
   "execution_count": 26,
   "metadata": {},
   "outputs": [
    {
     "data": {
      "text/plain": [
       "[1, 2, 3, 5, 6, 7, 8, 11, 16]"
      ]
     },
     "execution_count": 26,
     "metadata": {},
     "output_type": "execute_result"
    }
   ],
   "source": [
    "L.sort()\n",
    "L"
   ]
  },
  {
   "cell_type": "code",
   "execution_count": 29,
   "metadata": {},
   "outputs": [
    {
     "data": {
      "text/plain": [
       "[1, 2, 5, 6, 7, 11]"
      ]
     },
     "execution_count": 29,
     "metadata": {},
     "output_type": "execute_result"
    }
   ],
   "source": [
    "L.pop(-5)\n",
    "L"
   ]
  },
  {
   "cell_type": "code",
   "execution_count": 30,
   "metadata": {},
   "outputs": [
    {
     "data": {
      "text/plain": [
       "[1, 2, 6, 7, 11]"
      ]
     },
     "execution_count": 30,
     "metadata": {},
     "output_type": "execute_result"
    }
   ],
   "source": [
    "L.remove(5)\n",
    "L"
   ]
  },
  {
   "cell_type": "code",
   "execution_count": 31,
   "metadata": {},
   "outputs": [
    {
     "data": {
      "text/plain": [
       "[1, 2, 5, 6, 7, 11]"
      ]
     },
     "execution_count": 31,
     "metadata": {},
     "output_type": "execute_result"
    }
   ],
   "source": [
    "L.insert(2,5)\n",
    "L"
   ]
  },
  {
   "cell_type": "code",
   "execution_count": 3,
   "metadata": {},
   "outputs": [
    {
     "ename": "NameError",
     "evalue": "name 'rn' is not defined",
     "output_type": "error",
     "traceback": [
      "\u001b[1;31m---------------------------------------------------------------------------\u001b[0m",
      "\u001b[1;31mNameError\u001b[0m                                 Traceback (most recent call last)",
      "\u001b[1;32m<ipython-input-3-c901ece7716e>\u001b[0m in \u001b[0;36m<module>\u001b[1;34m\u001b[0m\n\u001b[1;32m----> 1\u001b[1;33m \u001b[0mR\u001b[0m\u001b[1;33m=\u001b[0m\u001b[1;33m[\u001b[0m\u001b[0mrn\u001b[0m\u001b[1;33m.\u001b[0m\u001b[0mchoice\u001b[0m\u001b[1;33m(\u001b[0m\u001b[1;33m[\u001b[0m\u001b[1;34m'A'\u001b[0m\u001b[1;33m,\u001b[0m\u001b[1;34m'T'\u001b[0m\u001b[1;33m,\u001b[0m\u001b[1;34m'G'\u001b[0m\u001b[1;33m,\u001b[0m\u001b[1;34m'C'\u001b[0m\u001b[1;33m]\u001b[0m\u001b[1;33m)\u001b[0m\u001b[1;32mfor\u001b[0m \u001b[0mi\u001b[0m \u001b[1;32min\u001b[0m \u001b[0mrange\u001b[0m \u001b[1;33m(\u001b[0m\u001b[1;36m10000\u001b[0m\u001b[1;33m)\u001b[0m\u001b[1;33m]\u001b[0m\u001b[1;33m\u001b[0m\u001b[1;33m\u001b[0m\u001b[0m\n\u001b[0m\u001b[0;32m      2\u001b[0m \u001b[0mprint\u001b[0m\u001b[1;33m(\u001b[0m\u001b[0mR\u001b[0m\u001b[1;33m)\u001b[0m\u001b[1;33m\u001b[0m\u001b[1;33m\u001b[0m\u001b[0m\n",
      "\u001b[1;32m<ipython-input-3-c901ece7716e>\u001b[0m in \u001b[0;36m<listcomp>\u001b[1;34m(.0)\u001b[0m\n\u001b[1;32m----> 1\u001b[1;33m \u001b[0mR\u001b[0m\u001b[1;33m=\u001b[0m\u001b[1;33m[\u001b[0m\u001b[0mrn\u001b[0m\u001b[1;33m.\u001b[0m\u001b[0mchoice\u001b[0m\u001b[1;33m(\u001b[0m\u001b[1;33m[\u001b[0m\u001b[1;34m'A'\u001b[0m\u001b[1;33m,\u001b[0m\u001b[1;34m'T'\u001b[0m\u001b[1;33m,\u001b[0m\u001b[1;34m'G'\u001b[0m\u001b[1;33m,\u001b[0m\u001b[1;34m'C'\u001b[0m\u001b[1;33m]\u001b[0m\u001b[1;33m)\u001b[0m\u001b[1;32mfor\u001b[0m \u001b[0mi\u001b[0m \u001b[1;32min\u001b[0m \u001b[0mrange\u001b[0m \u001b[1;33m(\u001b[0m\u001b[1;36m10000\u001b[0m\u001b[1;33m)\u001b[0m\u001b[1;33m]\u001b[0m\u001b[1;33m\u001b[0m\u001b[1;33m\u001b[0m\u001b[0m\n\u001b[0m\u001b[0;32m      2\u001b[0m \u001b[0mprint\u001b[0m\u001b[1;33m(\u001b[0m\u001b[0mR\u001b[0m\u001b[1;33m)\u001b[0m\u001b[1;33m\u001b[0m\u001b[1;33m\u001b[0m\u001b[0m\n",
      "\u001b[1;31mNameError\u001b[0m: name 'rn' is not defined"
     ]
    }
   ],
   "source": [
    "R=[rn.choice(['A','T','G','C'])for i in range (10000)]\n",
    "print(R)"
   ]
  },
  {
   "cell_type": "markdown",
   "metadata": {},
   "source": [
    "#function"
   ]
  },
  {
   "cell_type": "code",
   "execution_count": 9,
   "metadata": {},
   "outputs": [
    {
     "name": "stdout",
     "output_type": "stream",
     "text": [
      "35\n"
     ]
    }
   ],
   "source": [
    "def sum():\n",
    "    x=10\n",
    "    y=25\n",
    "    s=x+y\n",
    "    print(s)\n",
    "sum()"
   ]
  },
  {
   "cell_type": "code",
   "execution_count": 14,
   "metadata": {},
   "outputs": [
    {
     "name": "stdout",
     "output_type": "stream",
     "text": [
      "sum= 30\n"
     ]
    }
   ],
   "source": [
    "def sum(x):\n",
    "    y=x+10\n",
    "    print('sum=',y)\n",
    "sum(20)"
   ]
  },
  {
   "cell_type": "code",
   "execution_count": 15,
   "metadata": {},
   "outputs": [
    {
     "name": "stdout",
     "output_type": "stream",
     "text": [
      "sum= 50\n"
     ]
    }
   ],
   "source": [
    "sum(40)"
   ]
  },
  {
   "cell_type": "code",
   "execution_count": 16,
   "metadata": {},
   "outputs": [
    {
     "name": "stdout",
     "output_type": "stream",
     "text": [
      "sum= 40\n"
     ]
    }
   ],
   "source": [
    "def sum(x,y):\n",
    "    c=x+y+10\n",
    "    print('sum=',c)\n",
    "sum(20,10)"
   ]
  },
  {
   "cell_type": "code",
   "execution_count": 18,
   "metadata": {},
   "outputs": [
    {
     "name": "stdout",
     "output_type": "stream",
     "text": [
      "13\n"
     ]
    }
   ],
   "source": [
    "def area(x,y):\n",
    "    A=x**2+y**2\n",
    "    print(A)\n",
    "area(2,3)"
   ]
  },
  {
   "cell_type": "code",
   "execution_count": 20,
   "metadata": {},
   "outputs": [
    {
     "name": "stdout",
     "output_type": "stream",
     "text": [
      "15.25\n"
     ]
    }
   ],
   "source": [
    "area(2.5,3)"
   ]
  },
  {
   "cell_type": "code",
   "execution_count": null,
   "metadata": {},
   "outputs": [],
   "source": []
  }
 ],
 "metadata": {
  "kernelspec": {
   "display_name": "Python 3",
   "language": "python",
   "name": "python3"
  },
  "language_info": {
   "codemirror_mode": {
    "name": "ipython",
    "version": 3
   },
   "file_extension": ".py",
   "mimetype": "text/x-python",
   "name": "python",
   "nbconvert_exporter": "python",
   "pygments_lexer": "ipython3",
   "version": "3.7.6"
  }
 },
 "nbformat": 4,
 "nbformat_minor": 4
}
